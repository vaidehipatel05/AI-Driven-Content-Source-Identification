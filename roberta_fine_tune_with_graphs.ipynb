{
 "cells": [
  {
   "cell_type": "code",
   "execution_count": null,
   "id": "2711356e-89af-451a-bc9e-caa100b1e2a6",
   "metadata": {
    "id": "2711356e-89af-451a-bc9e-caa100b1e2a6",
    "outputId": "ffb9dad0-7f02-4303-b977-bae985d75baf"
   },
   "outputs": [
    {
     "name": "stderr",
     "output_type": "stream",
     "text": [
      "huggingface/tokenizers: The current process just got forked, after parallelism has already been used. Disabling parallelism to avoid deadlocks...\n",
      "To disable this warning, you can either:\n",
      "\t- Avoid using `tokenizers` before the fork if possible\n",
      "\t- Explicitly set the environment variable TOKENIZERS_PARALLELISM=(true | false)\n"
     ]
    },
    {
     "name": "stdout",
     "output_type": "stream",
     "text": [
      "Collecting datasets\n",
      "  Downloading datasets-3.1.0-py3-none-any.whl.metadata (20 kB)\n",
      "Requirement already satisfied: filelock in /opt/conda/lib/python3.10/site-packages (from datasets) (3.13.1)\n",
      "Requirement already satisfied: numpy>=1.17 in /opt/conda/lib/python3.10/site-packages (from datasets) (1.26.2)\n",
      "Collecting pyarrow>=15.0.0 (from datasets)\n",
      "  Downloading pyarrow-18.0.0-cp310-cp310-manylinux_2_28_x86_64.whl.metadata (3.3 kB)\n",
      "Collecting dill<0.3.9,>=0.3.0 (from datasets)\n",
      "  Downloading dill-0.3.8-py3-none-any.whl.metadata (10 kB)\n",
      "Requirement already satisfied: pandas in /opt/conda/lib/python3.10/site-packages (from datasets) (2.2.3)\n",
      "Collecting requests>=2.32.2 (from datasets)\n",
      "  Downloading requests-2.32.3-py3-none-any.whl.metadata (4.6 kB)\n",
      "Collecting tqdm>=4.66.3 (from datasets)\n",
      "  Downloading tqdm-4.67.0-py3-none-any.whl.metadata (57 kB)\n",
      "\u001b[2K     \u001b[90m━━━━━━━━━━━━━━━━━━━━━━━━━━━━━━━━━━━━━━━━\u001b[0m \u001b[32m57.6/57.6 kB\u001b[0m \u001b[31m5.7 MB/s\u001b[0m eta \u001b[36m0:00:00\u001b[0m\n",
      "\u001b[?25hCollecting xxhash (from datasets)\n",
      "  Downloading xxhash-3.5.0-cp310-cp310-manylinux_2_17_x86_64.manylinux2014_x86_64.whl.metadata (12 kB)\n",
      "Collecting multiprocess<0.70.17 (from datasets)\n",
      "  Downloading multiprocess-0.70.16-py310-none-any.whl.metadata (7.2 kB)\n",
      "Requirement already satisfied: fsspec<=2024.9.0,>=2023.1.0 in /opt/conda/lib/python3.10/site-packages (from fsspec[http]<=2024.9.0,>=2023.1.0->datasets) (2023.12.2)\n",
      "Collecting aiohttp (from datasets)\n",
      "  Downloading aiohttp-3.11.2-cp310-cp310-manylinux_2_17_x86_64.manylinux2014_x86_64.whl.metadata (7.7 kB)\n",
      "Requirement already satisfied: huggingface-hub>=0.23.0 in /opt/conda/lib/python3.10/site-packages (from datasets) (0.26.2)\n",
      "Requirement already satisfied: packaging in /opt/conda/lib/python3.10/site-packages (from datasets) (23.1)\n",
      "Requirement already satisfied: pyyaml>=5.1 in /opt/conda/lib/python3.10/site-packages (from datasets) (6.0.1)\n",
      "Collecting aiohappyeyeballs>=2.3.0 (from aiohttp->datasets)\n",
      "  Downloading aiohappyeyeballs-2.4.3-py3-none-any.whl.metadata (6.1 kB)\n",
      "Collecting aiosignal>=1.1.2 (from aiohttp->datasets)\n",
      "  Downloading aiosignal-1.3.1-py3-none-any.whl.metadata (4.0 kB)\n",
      "Requirement already satisfied: attrs>=17.3.0 in /opt/conda/lib/python3.10/site-packages (from aiohttp->datasets) (23.1.0)\n",
      "Collecting frozenlist>=1.1.1 (from aiohttp->datasets)\n",
      "  Downloading frozenlist-1.5.0-cp310-cp310-manylinux_2_5_x86_64.manylinux1_x86_64.manylinux_2_17_x86_64.manylinux2014_x86_64.whl.metadata (13 kB)\n",
      "Collecting multidict<7.0,>=4.5 (from aiohttp->datasets)\n",
      "  Downloading multidict-6.1.0-cp310-cp310-manylinux_2_17_x86_64.manylinux2014_x86_64.whl.metadata (5.0 kB)\n",
      "Collecting propcache>=0.2.0 (from aiohttp->datasets)\n",
      "  Downloading propcache-0.2.0-cp310-cp310-manylinux_2_17_x86_64.manylinux2014_x86_64.whl.metadata (7.7 kB)\n",
      "Collecting yarl<2.0,>=1.17.0 (from aiohttp->datasets)\n",
      "  Downloading yarl-1.17.1-cp310-cp310-manylinux_2_17_x86_64.manylinux2014_x86_64.whl.metadata (64 kB)\n",
      "\u001b[2K     \u001b[90m━━━━━━━━━━━━━━━━━━━━━━━━━━━━━━━━━━━━━━━━\u001b[0m \u001b[32m64.8/64.8 kB\u001b[0m \u001b[31m11.0 MB/s\u001b[0m eta \u001b[36m0:00:00\u001b[0m\n",
      "\u001b[?25hCollecting async-timeout<6.0,>=4.0 (from aiohttp->datasets)\n",
      "  Downloading async_timeout-5.0.1-py3-none-any.whl.metadata (5.1 kB)\n",
      "Requirement already satisfied: typing-extensions>=3.7.4.3 in /opt/conda/lib/python3.10/site-packages (from huggingface-hub>=0.23.0->datasets) (4.7.1)\n",
      "Requirement already satisfied: charset-normalizer<4,>=2 in /opt/conda/lib/python3.10/site-packages (from requests>=2.32.2->datasets) (2.0.4)\n",
      "Requirement already satisfied: idna<4,>=2.5 in /opt/conda/lib/python3.10/site-packages (from requests>=2.32.2->datasets) (3.4)\n",
      "Requirement already satisfied: urllib3<3,>=1.21.1 in /opt/conda/lib/python3.10/site-packages (from requests>=2.32.2->datasets) (1.26.18)\n",
      "Requirement already satisfied: certifi>=2017.4.17 in /opt/conda/lib/python3.10/site-packages (from requests>=2.32.2->datasets) (2023.11.17)\n",
      "Requirement already satisfied: python-dateutil>=2.8.2 in /opt/conda/lib/python3.10/site-packages (from pandas->datasets) (2.8.2)\n",
      "Requirement already satisfied: pytz>=2020.1 in /opt/conda/lib/python3.10/site-packages (from pandas->datasets) (2023.3.post1)\n",
      "Requirement already satisfied: tzdata>=2022.7 in /opt/conda/lib/python3.10/site-packages (from pandas->datasets) (2024.2)\n",
      "Requirement already satisfied: six>=1.5 in /opt/conda/lib/python3.10/site-packages (from python-dateutil>=2.8.2->pandas->datasets) (1.16.0)\n",
      "Downloading datasets-3.1.0-py3-none-any.whl (480 kB)\n",
      "\u001b[2K   \u001b[90m━━━━━━━━━━━━━━━━━━━━━━━━━━━━━━━━━━━━━━━━\u001b[0m \u001b[32m480.6/480.6 kB\u001b[0m \u001b[31m51.8 MB/s\u001b[0m eta \u001b[36m0:00:00\u001b[0m\n",
      "\u001b[?25hDownloading dill-0.3.8-py3-none-any.whl (116 kB)\n",
      "\u001b[2K   \u001b[90m━━━━━━━━━━━━━━━━━━━━━━━━━━━━━━━━━━━━━━━━\u001b[0m \u001b[32m116.3/116.3 kB\u001b[0m \u001b[31m19.5 MB/s\u001b[0m eta \u001b[36m0:00:00\u001b[0m\n",
      "\u001b[?25hDownloading aiohttp-3.11.2-cp310-cp310-manylinux_2_17_x86_64.manylinux2014_x86_64.whl (1.6 MB)\n",
      "\u001b[2K   \u001b[90m━━━━━━━━━━━━━━━━━━━━━━━━━━━━━━━━━━━━━━━━\u001b[0m \u001b[32m1.6/1.6 MB\u001b[0m \u001b[31m48.5 MB/s\u001b[0m eta \u001b[36m0:00:00\u001b[0m00:01\u001b[0m\n",
      "\u001b[?25hDownloading multiprocess-0.70.16-py310-none-any.whl (134 kB)\n",
      "\u001b[2K   \u001b[90m━━━━━━━━━━━━━━━━━━━━━━━━━━━━━━━━━━━━━━━━\u001b[0m \u001b[32m134.8/134.8 kB\u001b[0m \u001b[31m21.0 MB/s\u001b[0m eta \u001b[36m0:00:00\u001b[0m\n",
      "\u001b[?25hDownloading pyarrow-18.0.0-cp310-cp310-manylinux_2_28_x86_64.whl (40.0 MB)\n",
      "\u001b[2K   \u001b[90m━━━━━━━━━━━━━━━━━━━━━━━━━━━━━━━━━━━━━━━━\u001b[0m \u001b[32m40.0/40.0 MB\u001b[0m \u001b[31m51.8 MB/s\u001b[0m eta \u001b[36m0:00:00\u001b[0m00:01\u001b[0m00:01\u001b[0m\n",
      "\u001b[?25hDownloading requests-2.32.3-py3-none-any.whl (64 kB)\n",
      "\u001b[2K   \u001b[90m━━━━━━━━━━━━━━━━━━━━━━━━━━━━━━━━━━━━━━━━\u001b[0m \u001b[32m64.9/64.9 kB\u001b[0m \u001b[31m11.3 MB/s\u001b[0m eta \u001b[36m0:00:00\u001b[0m\n",
      "\u001b[?25hDownloading tqdm-4.67.0-py3-none-any.whl (78 kB)\n",
      "\u001b[2K   \u001b[90m━━━━━━━━━━━━━━━━━━━━━━━━━━━━━━━━━━━━━━━━\u001b[0m \u001b[32m78.6/78.6 kB\u001b[0m \u001b[31m14.8 MB/s\u001b[0m eta \u001b[36m0:00:00\u001b[0m\n",
      "\u001b[?25hDownloading xxhash-3.5.0-cp310-cp310-manylinux_2_17_x86_64.manylinux2014_x86_64.whl (194 kB)\n",
      "\u001b[2K   \u001b[90m━━━━━━━━━━━━━━━━━━━━━━━━━━━━━━━━━━━━━━━━\u001b[0m \u001b[32m194.1/194.1 kB\u001b[0m \u001b[31m31.3 MB/s\u001b[0m eta \u001b[36m0:00:00\u001b[0m\n",
      "\u001b[?25hDownloading aiohappyeyeballs-2.4.3-py3-none-any.whl (14 kB)\n",
      "Downloading aiosignal-1.3.1-py3-none-any.whl (7.6 kB)\n",
      "Downloading async_timeout-5.0.1-py3-none-any.whl (6.2 kB)\n",
      "Downloading frozenlist-1.5.0-cp310-cp310-manylinux_2_5_x86_64.manylinux1_x86_64.manylinux_2_17_x86_64.manylinux2014_x86_64.whl (241 kB)\n",
      "\u001b[2K   \u001b[90m━━━━━━━━━━━━━━━━━━━━━━━━━━━━━━━━━━━━━━━━\u001b[0m \u001b[32m241.9/241.9 kB\u001b[0m \u001b[31m32.2 MB/s\u001b[0m eta \u001b[36m0:00:00\u001b[0m\n",
      "\u001b[?25hDownloading multidict-6.1.0-cp310-cp310-manylinux_2_17_x86_64.manylinux2014_x86_64.whl (124 kB)\n",
      "\u001b[2K   \u001b[90m━━━━━━━━━━━━━━━━━━━━━━━━━━━━━━━━━━━━━━━━\u001b[0m \u001b[32m124.6/124.6 kB\u001b[0m \u001b[31m23.0 MB/s\u001b[0m eta \u001b[36m0:00:00\u001b[0m\n",
      "\u001b[?25hDownloading propcache-0.2.0-cp310-cp310-manylinux_2_17_x86_64.manylinux2014_x86_64.whl (208 kB)\n",
      "\u001b[2K   \u001b[90m━━━━━━━━━━━━━━━━━━━━━━━━━━━━━━━━━━━━━━━━\u001b[0m \u001b[32m208.9/208.9 kB\u001b[0m \u001b[31m15.8 MB/s\u001b[0m eta \u001b[36m0:00:00\u001b[0m\n",
      "\u001b[?25hDownloading yarl-1.17.1-cp310-cp310-manylinux_2_17_x86_64.manylinux2014_x86_64.whl (318 kB)\n",
      "\u001b[2K   \u001b[90m━━━━━━━━━━━━━━━━━━━━━━━━━━━━━━━━━━━━━━━━\u001b[0m \u001b[32m318.7/318.7 kB\u001b[0m \u001b[31m23.5 MB/s\u001b[0m eta \u001b[36m0:00:00\u001b[0m\n",
      "\u001b[?25hInstalling collected packages: xxhash, tqdm, requests, pyarrow, propcache, multidict, frozenlist, dill, async-timeout, aiohappyeyeballs, yarl, multiprocess, aiosignal, aiohttp, datasets\n",
      "  Attempting uninstall: tqdm\n",
      "    Found existing installation: tqdm 4.65.0\n",
      "    Uninstalling tqdm-4.65.0:\n",
      "      Successfully uninstalled tqdm-4.65.0\n",
      "  Attempting uninstall: requests\n",
      "    Found existing installation: requests 2.31.0\n",
      "    Uninstalling requests-2.31.0:\n",
      "      Successfully uninstalled requests-2.31.0\n",
      "Successfully installed aiohappyeyeballs-2.4.3 aiohttp-3.11.2 aiosignal-1.3.1 async-timeout-5.0.1 datasets-3.1.0 dill-0.3.8 frozenlist-1.5.0 multidict-6.1.0 multiprocess-0.70.16 propcache-0.2.0 pyarrow-18.0.0 requests-2.32.3 tqdm-4.67.0 xxhash-3.5.0 yarl-1.17.1\n",
      "\u001b[33mWARNING: Running pip as the 'root' user can result in broken permissions and conflicting behaviour with the system package manager. It is recommended to use a virtual environment instead: https://pip.pypa.io/warnings/venv\u001b[0m\u001b[33m\n",
      "\u001b[0m"
     ]
    }
   ],
   "source": [
    "!pip install datasets"
   ]
  },
  {
   "cell_type": "code",
   "execution_count": null,
   "id": "0016f069-4ba4-4608-a315-194ea9b16b60",
   "metadata": {
    "id": "0016f069-4ba4-4608-a315-194ea9b16b60",
    "outputId": "1cb3eb88-adda-414f-dbdf-92ffd57c5e92"
   },
   "outputs": [
    {
     "name": "stderr",
     "output_type": "stream",
     "text": [
      "huggingface/tokenizers: The current process just got forked, after parallelism has already been used. Disabling parallelism to avoid deadlocks...\n",
      "To disable this warning, you can either:\n",
      "\t- Avoid using `tokenizers` before the fork if possible\n",
      "\t- Explicitly set the environment variable TOKENIZERS_PARALLELISM=(true | false)\n"
     ]
    },
    {
     "name": "stdout",
     "output_type": "stream",
     "text": [
      "Requirement already satisfied: transformers[torch] in /opt/conda/lib/python3.10/site-packages (4.46.2)\n",
      "Requirement already satisfied: filelock in /opt/conda/lib/python3.10/site-packages (from transformers[torch]) (3.13.1)\n",
      "Requirement already satisfied: huggingface-hub<1.0,>=0.23.2 in /opt/conda/lib/python3.10/site-packages (from transformers[torch]) (0.26.2)\n",
      "Requirement already satisfied: numpy>=1.17 in /opt/conda/lib/python3.10/site-packages (from transformers[torch]) (1.26.2)\n",
      "Requirement already satisfied: packaging>=20.0 in /opt/conda/lib/python3.10/site-packages (from transformers[torch]) (23.1)\n",
      "Requirement already satisfied: pyyaml>=5.1 in /opt/conda/lib/python3.10/site-packages (from transformers[torch]) (6.0.1)\n",
      "Requirement already satisfied: regex!=2019.12.17 in /opt/conda/lib/python3.10/site-packages (from transformers[torch]) (2024.11.6)\n",
      "Requirement already satisfied: requests in /opt/conda/lib/python3.10/site-packages (from transformers[torch]) (2.32.3)\n",
      "Requirement already satisfied: safetensors>=0.4.1 in /opt/conda/lib/python3.10/site-packages (from transformers[torch]) (0.4.5)\n",
      "Requirement already satisfied: tokenizers<0.21,>=0.20 in /opt/conda/lib/python3.10/site-packages (from transformers[torch]) (0.20.3)\n",
      "Requirement already satisfied: tqdm>=4.27 in /opt/conda/lib/python3.10/site-packages (from transformers[torch]) (4.67.0)\n",
      "Collecting accelerate>=0.26.0 (from transformers[torch])\n",
      "  Downloading accelerate-1.1.1-py3-none-any.whl.metadata (19 kB)\n",
      "Requirement already satisfied: torch in /opt/conda/lib/python3.10/site-packages (from transformers[torch]) (2.1.2)\n",
      "Requirement already satisfied: psutil in /opt/conda/lib/python3.10/site-packages (from accelerate>=0.26.0->transformers[torch]) (5.9.0)\n",
      "Requirement already satisfied: fsspec>=2023.5.0 in /opt/conda/lib/python3.10/site-packages (from huggingface-hub<1.0,>=0.23.2->transformers[torch]) (2023.12.2)\n",
      "Requirement already satisfied: typing-extensions>=3.7.4.3 in /opt/conda/lib/python3.10/site-packages (from huggingface-hub<1.0,>=0.23.2->transformers[torch]) (4.7.1)\n",
      "Requirement already satisfied: sympy in /opt/conda/lib/python3.10/site-packages (from torch->transformers[torch]) (1.12)\n",
      "Requirement already satisfied: networkx in /opt/conda/lib/python3.10/site-packages (from torch->transformers[torch]) (3.1)\n",
      "Requirement already satisfied: jinja2 in /opt/conda/lib/python3.10/site-packages (from torch->transformers[torch]) (3.1.2)\n",
      "Requirement already satisfied: charset-normalizer<4,>=2 in /opt/conda/lib/python3.10/site-packages (from requests->transformers[torch]) (2.0.4)\n",
      "Requirement already satisfied: idna<4,>=2.5 in /opt/conda/lib/python3.10/site-packages (from requests->transformers[torch]) (3.4)\n",
      "Requirement already satisfied: urllib3<3,>=1.21.1 in /opt/conda/lib/python3.10/site-packages (from requests->transformers[torch]) (1.26.18)\n",
      "Requirement already satisfied: certifi>=2017.4.17 in /opt/conda/lib/python3.10/site-packages (from requests->transformers[torch]) (2023.11.17)\n",
      "Requirement already satisfied: MarkupSafe>=2.0 in /opt/conda/lib/python3.10/site-packages (from jinja2->torch->transformers[torch]) (2.1.1)\n",
      "Requirement already satisfied: mpmath>=0.19 in /opt/conda/lib/python3.10/site-packages (from sympy->torch->transformers[torch]) (1.3.0)\n",
      "Downloading accelerate-1.1.1-py3-none-any.whl (333 kB)\n",
      "\u001b[2K   \u001b[90m━━━━━━━━━━━━━━━━━━━━━━━━━━━━━━━━━━━━━━━━\u001b[0m \u001b[32m333.2/333.2 kB\u001b[0m \u001b[31m17.9 MB/s\u001b[0m eta \u001b[36m0:00:00\u001b[0m\n",
      "\u001b[?25hInstalling collected packages: accelerate\n",
      "Successfully installed accelerate-1.1.1\n",
      "\u001b[33mWARNING: Running pip as the 'root' user can result in broken permissions and conflicting behaviour with the system package manager. It is recommended to use a virtual environment instead: https://pip.pypa.io/warnings/venv\u001b[0m\u001b[33m\n",
      "\u001b[0m"
     ]
    }
   ],
   "source": [
    "!pip install transformers[torch]"
   ]
  },
  {
   "cell_type": "code",
   "execution_count": null,
   "id": "6e0bc983-d31f-4e37-9aaf-bea3edd15f64",
   "metadata": {
    "id": "6e0bc983-d31f-4e37-9aaf-bea3edd15f64",
    "outputId": "47a50a23-f19a-4263-bb3d-625daced450f"
   },
   "outputs": [
    {
     "name": "stderr",
     "output_type": "stream",
     "text": [
      "/opt/conda/lib/python3.10/site-packages/tqdm/auto.py:21: TqdmWarning: IProgress not found. Please update jupyter and ipywidgets. See https://ipywidgets.readthedocs.io/en/stable/user_install.html\n",
      "  from .autonotebook import tqdm as notebook_tqdm\n"
     ]
    },
    {
     "name": "stdout",
     "output_type": "stream",
     "text": [
      "label\n",
      "1    15395\n",
      "2    15395\n",
      "0    15391\n",
      "Name: count, dtype: int64\n",
      "Training Set Size: 36944\n",
      "Test Set Size: 9237\n"
     ]
    },
    {
     "name": "stderr",
     "output_type": "stream",
     "text": [
      "Some weights of RobertaForSequenceClassification were not initialized from the model checkpoint at roberta-base and are newly initialized: ['classifier.dense.bias', 'classifier.dense.weight', 'classifier.out_proj.bias', 'classifier.out_proj.weight']\n",
      "You should probably TRAIN this model on a down-stream task to be able to use it for predictions and inference.\n"
     ]
    },
    {
     "data": {
      "text/html": [
       "\n",
       "    <div>\n",
       "      \n",
       "      <progress value='6927' max='6927' style='width:300px; height:20px; vertical-align: middle;'></progress>\n",
       "      [6927/6927 22:08, Epoch 3/3]\n",
       "    </div>\n",
       "    <table border=\"1\" class=\"dataframe\">\n",
       "  <thead>\n",
       " <tr style=\"text-align: left;\">\n",
       "      <th>Epoch</th>\n",
       "      <th>Training Loss</th>\n",
       "      <th>Validation Loss</th>\n",
       "    </tr>\n",
       "  </thead>\n",
       "  <tbody>\n",
       "    <tr>\n",
       "      <td>1</td>\n",
       "      <td>0.313900</td>\n",
       "      <td>0.416060</td>\n",
       "    </tr>\n",
       "    <tr>\n",
       "      <td>2</td>\n",
       "      <td>0.001400</td>\n",
       "      <td>0.379684</td>\n",
       "    </tr>\n",
       "    <tr>\n",
       "      <td>3</td>\n",
       "      <td>0.024900</td>\n",
       "      <td>0.405394</td>\n",
       "    </tr>\n",
       "  </tbody>\n",
       "</table><p>"
      ],
      "text/plain": [
       "<IPython.core.display.HTML object>"
      ]
     },
     "metadata": {},
     "output_type": "display_data"
    },
    {
     "ename": "AttributeError",
     "evalue": "'Trainer' object has no attribute 'eval'",
     "output_type": "error",
     "traceback": [
      "\u001b[0;31m---------------------------------------------------------------------------\u001b[0m",
      "\u001b[0;31mAttributeError\u001b[0m                            Traceback (most recent call last)",
      "Cell \u001b[0;32mIn[1], line 93\u001b[0m\n\u001b[1;32m     89\u001b[0m trainer\u001b[38;5;241m.\u001b[39mtrain()\n\u001b[1;32m     91\u001b[0m \u001b[38;5;66;03m# Step 8: Evaluate the Model\u001b[39;00m\n\u001b[1;32m     92\u001b[0m \u001b[38;5;66;03m# Get model predictions on the test set\u001b[39;00m\n\u001b[0;32m---> 93\u001b[0m \u001b[43mtrainer\u001b[49m\u001b[38;5;241;43m.\u001b[39;49m\u001b[43meval\u001b[49m()  \u001b[38;5;66;03m# Ensure model is in evaluation mode\u001b[39;00m\n\u001b[1;32m     94\u001b[0m predictions \u001b[38;5;241m=\u001b[39m trainer\u001b[38;5;241m.\u001b[39mpredict(test_dataset)\n\u001b[1;32m     96\u001b[0m \u001b[38;5;66;03m# Get predicted labels\u001b[39;00m\n",
      "\u001b[0;31mAttributeError\u001b[0m: 'Trainer' object has no attribute 'eval'"
     ]
    }
   ],
   "source": [
    "import pandas as pd\n",
    "from sklearn.model_selection import train_test_split\n",
    "from transformers import RobertaTokenizer, RobertaForSequenceClassification, Trainer, TrainingArguments\n",
    "from datasets import Dataset\n",
    "import torch\n",
    "from sklearn.metrics import classification_report\n",
    "import pandas as pd\n",
    "\n",
    "df_human = pd.read_csv(\"human.csv\")\n",
    "df_ai = pd.read_csv(\"ai.csv\")\n",
    "df_paraphrased = pd.read_csv(\"paraphrased.csv\")\n",
    "\n",
    "# Assign labels\n",
    "df_human['label'] = 0\n",
    "df_ai['label'] = 1\n",
    "df_paraphrased['label'] = 2\n",
    "\n",
    "# Selecting only the 'abstract' and 'label' columns\n",
    "df_human = df_human[['abstract', 'label']]\n",
    "df_ai = df_ai[['abstract', 'label']]\n",
    "df_paraphrased = df_paraphrased[['abstract', 'label']]\n",
    "\n",
    "# Concatenate all DataFrames into one\n",
    "df = pd.concat([df_human, df_ai, df_paraphrased], ignore_index=True)\n",
    "\n",
    "# Shuffle dataset\n",
    "df = df.sample(frac=1, random_state=42).reset_index(drop=True)\n",
    "\n",
    "# Check the count of each class to ensure it is balanced\n",
    "print(df['label'].value_counts())\n",
    "\n",
    "#Split the dataset into training and test sets (80% train, 20% test)\n",
    "train_df, test_df = train_test_split(df, test_size=0.2, random_state=42)\n",
    "print(f\"Training Set Size: {len(train_df)}\")\n",
    "print(f\"Test Set Size: {len(test_df)}\")\n",
    "\n",
    "#Tokenize the Data\n",
    "tokenizer = RobertaTokenizer.from_pretrained('roberta-base')\n",
    "\n",
    "# Tokenize the training data\n",
    "train_encodings = tokenizer(train_df['abstract'].tolist(), padding=True, truncation=True, max_length=512)\n",
    "train_dataset = Dataset.from_dict({\n",
    "    'input_ids': train_encodings['input_ids'],\n",
    "    'attention_mask': train_encodings['attention_mask'],\n",
    "    'labels': train_df['label'].values\n",
    "})\n",
    "\n",
    "# Tokenize the test data\n",
    "test_encodings = tokenizer(test_df['abstract'].tolist(), padding=True, truncation=True, max_length=512)\n",
    "test_dataset = Dataset.from_dict({\n",
    "    'input_ids': test_encodings['input_ids'],\n",
    "    'attention_mask': test_encodings['attention_mask'],\n",
    "    'labels': test_df['label'].values\n",
    "})\n",
    "\n",
    "model = RobertaForSequenceClassification.from_pretrained('roberta-base', num_labels=3)\n",
    "\n",
    "training_args = TrainingArguments(\n",
    "    output_dir='./results_roberta_1',\n",
    "    num_train_epochs=3,\n",
    "    per_device_train_batch_size=16,\n",
    "    per_device_eval_batch_size=16,\n",
    "    warmup_steps=500,\n",
    "    weight_decay=0.01,\n",
    "    logging_dir='./logs',\n",
    "    logging_steps=10,\n",
    "    eval_strategy=\"epoch\",\n",
    ")\n",
    "\n",
    "trainer = Trainer(\n",
    "    model=model,\n",
    "    args=training_args,\n",
    "    train_dataset=train_dataset,\n",
    "    eval_dataset=test_dataset,\n",
    ")\n",
    "\n",
    "trainer.train()"
   ]
  },
  {
   "cell_type": "code",
   "execution_count": null,
   "id": "241a3609-93d6-45f6-bb50-9ed6e6bbe59b",
   "metadata": {
    "id": "241a3609-93d6-45f6-bb50-9ed6e6bbe59b",
    "outputId": "606a6437-aad8-4c18-b631-19bd8aa2bbf1"
   },
   "outputs": [
    {
     "data": {
      "text/html": [],
      "text/plain": [
       "<IPython.core.display.HTML object>"
      ]
     },
     "metadata": {},
     "output_type": "display_data"
    },
    {
     "name": "stdout",
     "output_type": "stream",
     "text": [
      "              precision    recall  f1-score   support\n",
      "\n",
      "           0       0.99      0.85      0.91      3059\n",
      "           1       0.95      1.00      0.97      3088\n",
      "           2       0.87      0.94      0.90      3090\n",
      "\n",
      "    accuracy                           0.93      9237\n",
      "   macro avg       0.93      0.93      0.93      9237\n",
      "weighted avg       0.93      0.93      0.93      9237\n",
      "\n",
      "Model and Tokenizer saved.\n"
     ]
    }
   ],
   "source": [
    "# Step 8: Evaluate the Model\n",
    "# Get model predictions on the test set\n",
    "predictions = trainer.predict(test_dataset)\n",
    "\n",
    "# Get predicted labels (the predictions will be logits, so we need to take argmax to get the predicted class)\n",
    "predicted_labels = predictions.predictions.argmax(axis=-1)\n",
    "\n",
    "# Print the classification report to evaluate the model's performance\n",
    "print(classification_report(test_df['label'], predicted_labels))\n",
    "\n",
    "# Step 9: Save the Fine-Tuned Model and Tokenizer\n",
    "model.save_pretrained('roberta_1_fine_tuned_model')\n",
    "tokenizer.save_pretrained('roberta_1_fine_tuned_model')\n",
    "\n",
    "print(\"Model and Tokenizer saved.\")"
   ]
  },
  {
   "cell_type": "code",
   "execution_count": null,
   "id": "5aa0e098-06a7-46c9-82af-bbb05bd64d85",
   "metadata": {
    "colab": {
     "base_uri": "https://localhost:8080/",
     "height": 621
    },
    "id": "5aa0e098-06a7-46c9-82af-bbb05bd64d85",
    "outputId": "94bf37b2-2920-4554-ee82-3ee3383c1a35"
   },
   "outputs": [
    {
     "ename": "OSError",
     "evalue": "roberta_1_fine_tuned_model is not a local folder and is not a valid model identifier listed on 'https://huggingface.co/models'\nIf this is a private repository, make sure to pass a token having permission to this repo either by logging in with `huggingface-cli login` or by passing `token=<your_token>`",
     "output_type": "error",
     "traceback": [
      "\u001b[0;31m---------------------------------------------------------------------------\u001b[0m",
      "\u001b[0;31mHTTPError\u001b[0m                                 Traceback (most recent call last)",
      "\u001b[0;32m/usr/local/lib/python3.10/dist-packages/huggingface_hub/utils/_http.py\u001b[0m in \u001b[0;36mhf_raise_for_status\u001b[0;34m(response, endpoint_name)\u001b[0m\n\u001b[1;32m    405\u001b[0m     \u001b[0;32mtry\u001b[0m\u001b[0;34m:\u001b[0m\u001b[0;34m\u001b[0m\u001b[0;34m\u001b[0m\u001b[0m\n\u001b[0;32m--> 406\u001b[0;31m         \u001b[0mresponse\u001b[0m\u001b[0;34m.\u001b[0m\u001b[0mraise_for_status\u001b[0m\u001b[0;34m(\u001b[0m\u001b[0;34m)\u001b[0m\u001b[0;34m\u001b[0m\u001b[0;34m\u001b[0m\u001b[0m\n\u001b[0m\u001b[1;32m    407\u001b[0m     \u001b[0;32mexcept\u001b[0m \u001b[0mHTTPError\u001b[0m \u001b[0;32mas\u001b[0m \u001b[0me\u001b[0m\u001b[0;34m:\u001b[0m\u001b[0;34m\u001b[0m\u001b[0;34m\u001b[0m\u001b[0m\n",
      "\u001b[0;32m/usr/local/lib/python3.10/dist-packages/requests/models.py\u001b[0m in \u001b[0;36mraise_for_status\u001b[0;34m(self)\u001b[0m\n\u001b[1;32m   1023\u001b[0m         \u001b[0;32mif\u001b[0m \u001b[0mhttp_error_msg\u001b[0m\u001b[0;34m:\u001b[0m\u001b[0;34m\u001b[0m\u001b[0;34m\u001b[0m\u001b[0m\n\u001b[0;32m-> 1024\u001b[0;31m             \u001b[0;32mraise\u001b[0m \u001b[0mHTTPError\u001b[0m\u001b[0;34m(\u001b[0m\u001b[0mhttp_error_msg\u001b[0m\u001b[0;34m,\u001b[0m \u001b[0mresponse\u001b[0m\u001b[0;34m=\u001b[0m\u001b[0mself\u001b[0m\u001b[0;34m)\u001b[0m\u001b[0;34m\u001b[0m\u001b[0;34m\u001b[0m\u001b[0m\n\u001b[0m\u001b[1;32m   1025\u001b[0m \u001b[0;34m\u001b[0m\u001b[0m\n",
      "\u001b[0;31mHTTPError\u001b[0m: 401 Client Error: Unauthorized for url: https://huggingface.co/roberta_1_fine_tuned_model/resolve/main/config.json",
      "\nThe above exception was the direct cause of the following exception:\n",
      "\u001b[0;31mRepositoryNotFoundError\u001b[0m                   Traceback (most recent call last)",
      "\u001b[0;32m/usr/local/lib/python3.10/dist-packages/transformers/utils/hub.py\u001b[0m in \u001b[0;36mcached_file\u001b[0;34m(path_or_repo_id, filename, cache_dir, force_download, resume_download, proxies, token, revision, local_files_only, subfolder, repo_type, user_agent, _raise_exceptions_for_gated_repo, _raise_exceptions_for_missing_entries, _raise_exceptions_for_connection_errors, _commit_hash, **deprecated_kwargs)\u001b[0m\n\u001b[1;32m    402\u001b[0m         \u001b[0;31m# Load from URL or cache if already cached\u001b[0m\u001b[0;34m\u001b[0m\u001b[0;34m\u001b[0m\u001b[0m\n\u001b[0;32m--> 403\u001b[0;31m         resolved_file = hf_hub_download(\n\u001b[0m\u001b[1;32m    404\u001b[0m             \u001b[0mpath_or_repo_id\u001b[0m\u001b[0;34m,\u001b[0m\u001b[0;34m\u001b[0m\u001b[0;34m\u001b[0m\u001b[0m\n",
      "\u001b[0;32m/usr/local/lib/python3.10/dist-packages/huggingface_hub/utils/_validators.py\u001b[0m in \u001b[0;36m_inner_fn\u001b[0;34m(*args, **kwargs)\u001b[0m\n\u001b[1;32m    113\u001b[0m \u001b[0;34m\u001b[0m\u001b[0m\n\u001b[0;32m--> 114\u001b[0;31m         \u001b[0;32mreturn\u001b[0m \u001b[0mfn\u001b[0m\u001b[0;34m(\u001b[0m\u001b[0;34m*\u001b[0m\u001b[0margs\u001b[0m\u001b[0;34m,\u001b[0m \u001b[0;34m**\u001b[0m\u001b[0mkwargs\u001b[0m\u001b[0;34m)\u001b[0m\u001b[0;34m\u001b[0m\u001b[0;34m\u001b[0m\u001b[0m\n\u001b[0m\u001b[1;32m    115\u001b[0m \u001b[0;34m\u001b[0m\u001b[0m\n",
      "\u001b[0;32m/usr/local/lib/python3.10/dist-packages/huggingface_hub/file_download.py\u001b[0m in \u001b[0;36mhf_hub_download\u001b[0;34m(repo_id, filename, subfolder, repo_type, revision, library_name, library_version, cache_dir, local_dir, user_agent, force_download, proxies, etag_timeout, token, local_files_only, headers, endpoint, resume_download, force_filename, local_dir_use_symlinks)\u001b[0m\n\u001b[1;32m    861\u001b[0m     \u001b[0;32melse\u001b[0m\u001b[0;34m:\u001b[0m\u001b[0;34m\u001b[0m\u001b[0;34m\u001b[0m\u001b[0m\n\u001b[0;32m--> 862\u001b[0;31m         return _hf_hub_download_to_cache_dir(\n\u001b[0m\u001b[1;32m    863\u001b[0m             \u001b[0;31m# Destination\u001b[0m\u001b[0;34m\u001b[0m\u001b[0;34m\u001b[0m\u001b[0m\n",
      "\u001b[0;32m/usr/local/lib/python3.10/dist-packages/huggingface_hub/file_download.py\u001b[0m in \u001b[0;36m_hf_hub_download_to_cache_dir\u001b[0;34m(cache_dir, repo_id, filename, repo_type, revision, endpoint, etag_timeout, headers, proxies, token, local_files_only, force_download)\u001b[0m\n\u001b[1;32m    968\u001b[0m         \u001b[0;31m# Otherwise, raise appropriate error\u001b[0m\u001b[0;34m\u001b[0m\u001b[0;34m\u001b[0m\u001b[0m\n\u001b[0;32m--> 969\u001b[0;31m         \u001b[0m_raise_on_head_call_error\u001b[0m\u001b[0;34m(\u001b[0m\u001b[0mhead_call_error\u001b[0m\u001b[0;34m,\u001b[0m \u001b[0mforce_download\u001b[0m\u001b[0;34m,\u001b[0m \u001b[0mlocal_files_only\u001b[0m\u001b[0;34m)\u001b[0m\u001b[0;34m\u001b[0m\u001b[0;34m\u001b[0m\u001b[0m\n\u001b[0m\u001b[1;32m    970\u001b[0m \u001b[0;34m\u001b[0m\u001b[0m\n",
      "\u001b[0;32m/usr/local/lib/python3.10/dist-packages/huggingface_hub/file_download.py\u001b[0m in \u001b[0;36m_raise_on_head_call_error\u001b[0;34m(head_call_error, force_download, local_files_only)\u001b[0m\n\u001b[1;32m   1483\u001b[0m         \u001b[0;31m# Repo not found or gated => let's raise the actual error\u001b[0m\u001b[0;34m\u001b[0m\u001b[0;34m\u001b[0m\u001b[0m\n\u001b[0;32m-> 1484\u001b[0;31m         \u001b[0;32mraise\u001b[0m \u001b[0mhead_call_error\u001b[0m\u001b[0;34m\u001b[0m\u001b[0;34m\u001b[0m\u001b[0m\n\u001b[0m\u001b[1;32m   1485\u001b[0m     \u001b[0;32melse\u001b[0m\u001b[0;34m:\u001b[0m\u001b[0;34m\u001b[0m\u001b[0;34m\u001b[0m\u001b[0m\n",
      "\u001b[0;32m/usr/local/lib/python3.10/dist-packages/huggingface_hub/file_download.py\u001b[0m in \u001b[0;36m_get_metadata_or_catch_error\u001b[0;34m(repo_id, filename, repo_type, revision, endpoint, proxies, etag_timeout, headers, token, local_files_only, relative_filename, storage_folder)\u001b[0m\n\u001b[1;32m   1375\u001b[0m             \u001b[0;32mtry\u001b[0m\u001b[0;34m:\u001b[0m\u001b[0;34m\u001b[0m\u001b[0;34m\u001b[0m\u001b[0m\n\u001b[0;32m-> 1376\u001b[0;31m                 metadata = get_hf_file_metadata(\n\u001b[0m\u001b[1;32m   1377\u001b[0m                     \u001b[0murl\u001b[0m\u001b[0;34m=\u001b[0m\u001b[0murl\u001b[0m\u001b[0;34m,\u001b[0m \u001b[0mproxies\u001b[0m\u001b[0;34m=\u001b[0m\u001b[0mproxies\u001b[0m\u001b[0;34m,\u001b[0m \u001b[0mtimeout\u001b[0m\u001b[0;34m=\u001b[0m\u001b[0metag_timeout\u001b[0m\u001b[0;34m,\u001b[0m \u001b[0mheaders\u001b[0m\u001b[0;34m=\u001b[0m\u001b[0mheaders\u001b[0m\u001b[0;34m,\u001b[0m \u001b[0mtoken\u001b[0m\u001b[0;34m=\u001b[0m\u001b[0mtoken\u001b[0m\u001b[0;34m\u001b[0m\u001b[0;34m\u001b[0m\u001b[0m\n",
      "\u001b[0;32m/usr/local/lib/python3.10/dist-packages/huggingface_hub/utils/_validators.py\u001b[0m in \u001b[0;36m_inner_fn\u001b[0;34m(*args, **kwargs)\u001b[0m\n\u001b[1;32m    113\u001b[0m \u001b[0;34m\u001b[0m\u001b[0m\n\u001b[0;32m--> 114\u001b[0;31m         \u001b[0;32mreturn\u001b[0m \u001b[0mfn\u001b[0m\u001b[0;34m(\u001b[0m\u001b[0;34m*\u001b[0m\u001b[0margs\u001b[0m\u001b[0;34m,\u001b[0m \u001b[0;34m**\u001b[0m\u001b[0mkwargs\u001b[0m\u001b[0;34m)\u001b[0m\u001b[0;34m\u001b[0m\u001b[0;34m\u001b[0m\u001b[0m\n\u001b[0m\u001b[1;32m    115\u001b[0m \u001b[0;34m\u001b[0m\u001b[0m\n",
      "\u001b[0;32m/usr/local/lib/python3.10/dist-packages/huggingface_hub/file_download.py\u001b[0m in \u001b[0;36mget_hf_file_metadata\u001b[0;34m(url, token, proxies, timeout, library_name, library_version, user_agent, headers)\u001b[0m\n\u001b[1;32m   1295\u001b[0m     \u001b[0;31m# Retrieve metadata\u001b[0m\u001b[0;34m\u001b[0m\u001b[0;34m\u001b[0m\u001b[0m\n\u001b[0;32m-> 1296\u001b[0;31m     r = _request_wrapper(\n\u001b[0m\u001b[1;32m   1297\u001b[0m         \u001b[0mmethod\u001b[0m\u001b[0;34m=\u001b[0m\u001b[0;34m\"HEAD\"\u001b[0m\u001b[0;34m,\u001b[0m\u001b[0;34m\u001b[0m\u001b[0;34m\u001b[0m\u001b[0m\n",
      "\u001b[0;32m/usr/local/lib/python3.10/dist-packages/huggingface_hub/file_download.py\u001b[0m in \u001b[0;36m_request_wrapper\u001b[0;34m(method, url, follow_relative_redirects, **params)\u001b[0m\n\u001b[1;32m    276\u001b[0m     \u001b[0;32mif\u001b[0m \u001b[0mfollow_relative_redirects\u001b[0m\u001b[0;34m:\u001b[0m\u001b[0;34m\u001b[0m\u001b[0;34m\u001b[0m\u001b[0m\n\u001b[0;32m--> 277\u001b[0;31m         response = _request_wrapper(\n\u001b[0m\u001b[1;32m    278\u001b[0m             \u001b[0mmethod\u001b[0m\u001b[0;34m=\u001b[0m\u001b[0mmethod\u001b[0m\u001b[0;34m,\u001b[0m\u001b[0;34m\u001b[0m\u001b[0;34m\u001b[0m\u001b[0m\n",
      "\u001b[0;32m/usr/local/lib/python3.10/dist-packages/huggingface_hub/file_download.py\u001b[0m in \u001b[0;36m_request_wrapper\u001b[0;34m(method, url, follow_relative_redirects, **params)\u001b[0m\n\u001b[1;32m    300\u001b[0m     \u001b[0mresponse\u001b[0m \u001b[0;34m=\u001b[0m \u001b[0mget_session\u001b[0m\u001b[0;34m(\u001b[0m\u001b[0;34m)\u001b[0m\u001b[0;34m.\u001b[0m\u001b[0mrequest\u001b[0m\u001b[0;34m(\u001b[0m\u001b[0mmethod\u001b[0m\u001b[0;34m=\u001b[0m\u001b[0mmethod\u001b[0m\u001b[0;34m,\u001b[0m \u001b[0murl\u001b[0m\u001b[0;34m=\u001b[0m\u001b[0murl\u001b[0m\u001b[0;34m,\u001b[0m \u001b[0;34m**\u001b[0m\u001b[0mparams\u001b[0m\u001b[0;34m)\u001b[0m\u001b[0;34m\u001b[0m\u001b[0;34m\u001b[0m\u001b[0m\n\u001b[0;32m--> 301\u001b[0;31m     \u001b[0mhf_raise_for_status\u001b[0m\u001b[0;34m(\u001b[0m\u001b[0mresponse\u001b[0m\u001b[0;34m)\u001b[0m\u001b[0;34m\u001b[0m\u001b[0;34m\u001b[0m\u001b[0m\n\u001b[0m\u001b[1;32m    302\u001b[0m     \u001b[0;32mreturn\u001b[0m \u001b[0mresponse\u001b[0m\u001b[0;34m\u001b[0m\u001b[0;34m\u001b[0m\u001b[0m\n",
      "\u001b[0;32m/usr/local/lib/python3.10/dist-packages/huggingface_hub/utils/_http.py\u001b[0m in \u001b[0;36mhf_raise_for_status\u001b[0;34m(response, endpoint_name)\u001b[0m\n\u001b[1;32m    453\u001b[0m             )\n\u001b[0;32m--> 454\u001b[0;31m             \u001b[0;32mraise\u001b[0m \u001b[0m_format\u001b[0m\u001b[0;34m(\u001b[0m\u001b[0mRepositoryNotFoundError\u001b[0m\u001b[0;34m,\u001b[0m \u001b[0mmessage\u001b[0m\u001b[0;34m,\u001b[0m \u001b[0mresponse\u001b[0m\u001b[0;34m)\u001b[0m \u001b[0;32mfrom\u001b[0m \u001b[0me\u001b[0m\u001b[0;34m\u001b[0m\u001b[0;34m\u001b[0m\u001b[0m\n\u001b[0m\u001b[1;32m    455\u001b[0m \u001b[0;34m\u001b[0m\u001b[0m\n",
      "\u001b[0;31mRepositoryNotFoundError\u001b[0m: 401 Client Error. (Request ID: Root=1-673eb9e0-3a0f98966ee6a92535f0ddfe;dbc89fe8-0cf1-4742-9bde-12d766d0b506)\n\nRepository Not Found for url: https://huggingface.co/roberta_1_fine_tuned_model/resolve/main/config.json.\nPlease make sure you specified the correct `repo_id` and `repo_type`.\nIf you are trying to access a private or gated repo, make sure you are authenticated.\nInvalid username or password.",
      "\nThe above exception was the direct cause of the following exception:\n",
      "\u001b[0;31mOSError\u001b[0m                                   Traceback (most recent call last)",
      "\u001b[0;32m<ipython-input-34-6a4bba40036c>\u001b[0m in \u001b[0;36m<cell line: 5>\u001b[0;34m()\u001b[0m\n\u001b[1;32m      3\u001b[0m \u001b[0;34m\u001b[0m\u001b[0m\n\u001b[1;32m      4\u001b[0m \u001b[0;31m# Load the saved model and tokenizer\u001b[0m\u001b[0;34m\u001b[0m\u001b[0;34m\u001b[0m\u001b[0m\n\u001b[0;32m----> 5\u001b[0;31m \u001b[0mmodel\u001b[0m \u001b[0;34m=\u001b[0m \u001b[0mRobertaForSequenceClassification\u001b[0m\u001b[0;34m.\u001b[0m\u001b[0mfrom_pretrained\u001b[0m\u001b[0;34m(\u001b[0m\u001b[0;34m'roberta_1_fine_tuned_model'\u001b[0m\u001b[0;34m)\u001b[0m\u001b[0;34m\u001b[0m\u001b[0;34m\u001b[0m\u001b[0m\n\u001b[0m\u001b[1;32m      6\u001b[0m \u001b[0mtokenizer\u001b[0m \u001b[0;34m=\u001b[0m \u001b[0mRobertaTokenizer\u001b[0m\u001b[0;34m.\u001b[0m\u001b[0mfrom_pretrained\u001b[0m\u001b[0;34m(\u001b[0m\u001b[0;34m'roberta_1_fine_tuned_model'\u001b[0m\u001b[0;34m)\u001b[0m\u001b[0;34m\u001b[0m\u001b[0;34m\u001b[0m\u001b[0m\n\u001b[1;32m      7\u001b[0m \u001b[0;34m\u001b[0m\u001b[0m\n",
      "\u001b[0;32m/usr/local/lib/python3.10/dist-packages/transformers/modeling_utils.py\u001b[0m in \u001b[0;36mfrom_pretrained\u001b[0;34m(cls, pretrained_model_name_or_path, config, cache_dir, ignore_mismatched_sizes, force_download, local_files_only, token, revision, use_safetensors, weights_only, *model_args, **kwargs)\u001b[0m\n\u001b[1;32m   3504\u001b[0m             \u001b[0;32mif\u001b[0m \u001b[0;32mnot\u001b[0m \u001b[0misinstance\u001b[0m\u001b[0;34m(\u001b[0m\u001b[0mconfig\u001b[0m\u001b[0;34m,\u001b[0m \u001b[0mPretrainedConfig\u001b[0m\u001b[0;34m)\u001b[0m\u001b[0;34m:\u001b[0m\u001b[0;34m\u001b[0m\u001b[0;34m\u001b[0m\u001b[0m\n\u001b[1;32m   3505\u001b[0m                 \u001b[0;31m# We make a call to the config file first (which may be absent) to get the commit hash as soon as possible\u001b[0m\u001b[0;34m\u001b[0m\u001b[0;34m\u001b[0m\u001b[0m\n\u001b[0;32m-> 3506\u001b[0;31m                 resolved_config_file = cached_file(\n\u001b[0m\u001b[1;32m   3507\u001b[0m                     \u001b[0mpretrained_model_name_or_path\u001b[0m\u001b[0;34m,\u001b[0m\u001b[0;34m\u001b[0m\u001b[0;34m\u001b[0m\u001b[0m\n\u001b[1;32m   3508\u001b[0m                     \u001b[0mCONFIG_NAME\u001b[0m\u001b[0;34m,\u001b[0m\u001b[0;34m\u001b[0m\u001b[0;34m\u001b[0m\u001b[0m\n",
      "\u001b[0;32m/usr/local/lib/python3.10/dist-packages/transformers/utils/hub.py\u001b[0m in \u001b[0;36mcached_file\u001b[0;34m(path_or_repo_id, filename, cache_dir, force_download, resume_download, proxies, token, revision, local_files_only, subfolder, repo_type, user_agent, _raise_exceptions_for_gated_repo, _raise_exceptions_for_missing_entries, _raise_exceptions_for_connection_errors, _commit_hash, **deprecated_kwargs)\u001b[0m\n\u001b[1;32m    424\u001b[0m         ) from e\n\u001b[1;32m    425\u001b[0m     \u001b[0;32mexcept\u001b[0m \u001b[0mRepositoryNotFoundError\u001b[0m \u001b[0;32mas\u001b[0m \u001b[0me\u001b[0m\u001b[0;34m:\u001b[0m\u001b[0;34m\u001b[0m\u001b[0;34m\u001b[0m\u001b[0m\n\u001b[0;32m--> 426\u001b[0;31m         raise EnvironmentError(\n\u001b[0m\u001b[1;32m    427\u001b[0m             \u001b[0;34mf\"{path_or_repo_id} is not a local folder and is not a valid model identifier \"\u001b[0m\u001b[0;34m\u001b[0m\u001b[0;34m\u001b[0m\u001b[0m\n\u001b[1;32m    428\u001b[0m             \u001b[0;34m\"listed on 'https://huggingface.co/models'\\nIf this is a private repository, make sure to pass a token \"\u001b[0m\u001b[0;34m\u001b[0m\u001b[0;34m\u001b[0m\u001b[0m\n",
      "\u001b[0;31mOSError\u001b[0m: roberta_1_fine_tuned_model is not a local folder and is not a valid model identifier listed on 'https://huggingface.co/models'\nIf this is a private repository, make sure to pass a token having permission to this repo either by logging in with `huggingface-cli login` or by passing `token=<your_token>`"
     ]
    }
   ],
   "source": [
    "from transformers import RobertaForSequenceClassification, RobertaTokenizer\n",
    "import torch\n",
    "\n",
    "# Load the saved model and tokenizer\n",
    "model = RobertaForSequenceClassification.from_pretrained('roberta_1_fine_tuned_model')\n",
    "tokenizer = RobertaTokenizer.from_pretrained('roberta_1_fine_tuned_model')\n",
    "\n",
    "# Load model to device (GPU/CPU)\n",
    "device = torch.device(\"cuda\") if torch.cuda.is_available() else torch.device(\"cpu\")\n",
    "model.to(device)\n",
    "\n",
    "# Sample sentence to predict\n",
    "#sentence = \"I think I am better suited for this job position as I have significant experience using AWS Lambda which is the core requireemnt for this project\"\n",
    "sentence = \"Yes we had signed up and I had also taken a screenshot of the page with Date and Time and have attached it to this email. You can also verify from the sign up page history that we had signed up and we believe that someone has changed our time slot.\"\n",
    "# Tokenize the input\n",
    "inputs = tokenizer(sentence, return_tensors=\"pt\", padding=True, truncation=True, max_length=512)\n",
    "inputs = {key: value.to(device) for key, value in inputs.items()}\n",
    "\n",
    "# Make prediction\n",
    "model.eval()  # Set model to evaluation mode\n",
    "with torch.no_grad():\n",
    "    outputs = model(**inputs)\n",
    "\n",
    "# Get predicted label (the class with the highest logit)\n",
    "predicted_class = outputs.logits.argmax(dim=-1).item()\n",
    "\n",
    "# Map the predicted class to a label\n",
    "labels = {0: 'Human-generated', 1: 'AI-generated', 2: 'Paraphrased'}\n",
    "predicted_label = labels[predicted_class]\n",
    "\n",
    "print(f\"Sentence: {sentence}\")\n",
    "print(f\"Predicted label: {predicted_label}\")\n"
   ]
  },
  {
   "cell_type": "code",
   "execution_count": null,
   "id": "o1vCsbCgBmTR",
   "metadata": {
    "colab": {
     "base_uri": "https://localhost:8080/"
    },
    "id": "o1vCsbCgBmTR",
    "outputId": "70f82d8e-2bca-408b-e3c0-1afa1a674fc8"
   },
   "outputs": [
    {
     "name": "stdout",
     "output_type": "stream",
     "text": [
      "Sentence: Yes we had signed up and I had also taken a screenshot of the page with Date and Time and have attached it to this email. You can also verify from the sign up page history that we had signed up and we believe that someone has changed our time slot.\n",
      "Predicted label: Human-generated\n"
     ]
    }
   ],
   "source": [
    "# Sample sentence to predict\n",
    "#sentence = \"I think I am better suited for this job position as I have significant experience using AWS Lambda which is the core requireemnt for this project\"\n",
    "sentence = \"Yes we had signed up and I had also taken a screenshot of the page with Date and Time and have attached it to this email. You can also verify from the sign up page history that we had signed up and we believe that someone has changed our time slot.\"\n",
    "# Tokenize the input\n",
    "inputs = tokenizer(sentence, return_tensors=\"pt\", padding=True, truncation=True, max_length=512)\n",
    "\n",
    "# Make prediction\n",
    "model.eval()  # Set model to evaluation mode\n",
    "with torch.no_grad():\n",
    "    outputs = model(**inputs)\n",
    "\n",
    "# Get predicted label (the class with the highest logit)\n",
    "predicted_class = outputs.logits.argmax(dim=-1).item()\n",
    "\n",
    "# Map the predicted class to a label\n",
    "labels = {0: 'Human-generated', 1: 'AI-generated', 2: 'Paraphrased'}\n",
    "predicted_label = labels[predicted_class]\n",
    "\n",
    "print(f\"Sentence: {sentence}\")\n",
    "print(f\"Predicted label: {predicted_label}\")"
   ]
  },
  {
   "cell_type": "code",
   "execution_count": null,
   "id": "7dca0235-3fc4-4cb8-82da-35df3871b0b5",
   "metadata": {
    "colab": {
     "base_uri": "https://localhost:8080/"
    },
    "id": "7dca0235-3fc4-4cb8-82da-35df3871b0b5",
    "outputId": "49a3e92b-399f-4c6d-e474-e33bd04ca343"
   },
   "outputs": [
    {
     "name": "stdout",
     "output_type": "stream",
     "text": [
      "Sentence: Yes, we completed the sign-up and I have attached a screenshot of the page, including the date and time, to this email. You can also check the sign-up page history for confirmation, as we believe someone may have changed our time slot.\n",
      "Predicted label: Paraphrased\n"
     ]
    }
   ],
   "source": [
    "\"sentence = \"Yes, we completed the sign-up and I have attached a screenshot of the page, including the date and time, to this email. You can also check the sign-up page history for confirmation, as we believe someone may have changed our time slot.\"\n",
    "# Tokenize the input\n",
    "inputs = tokenizer(sentence, return_tensors=\"pt\", padding=True, truncation=True, max_length=512)\n",
    "#inputs = {key: value.to(device) for key, value in inputs.items()}\n",
    "\n",
    "# Make prediction\n",
    "model.eval()  # Set model to evaluation mode\n",
    "with torch.no_grad():\n",
    "    outputs = model(**inputs)\n",
    "\n",
    "# Get predicted label (the class with the highest logit)\n",
    "predicted_class = outputs.logits.argmax(dim=-1).item()\n",
    "\n",
    "# Map the predicted class to a label\n",
    "labels = {0: 'Human-generated', 1: 'AI-generated', 2: 'Paraphrased'}\n",
    "predicted_label = labels[predicted_class]\n",
    "\n",
    "print(f\"Sentence: {sentence}\")\n",
    "print(f\"Predicted label: {predicted_label}\")"
   ]
  },
  {
   "cell_type": "code",
   "execution_count": null,
   "id": "a908ea46-3735-4188-97bc-91c9b73d0769",
   "metadata": {
    "colab": {
     "base_uri": "https://localhost:8080/"
    },
    "id": "a908ea46-3735-4188-97bc-91c9b73d0769",
    "outputId": "bbdbed5f-8f89-42b5-b3e4-2a1d1dfe9f58"
   },
   "outputs": [
    {
     "name": "stdout",
     "output_type": "stream",
     "text": [
      "Sentence: I’m driven to work on AI safety at Anthropic because I believe that ensuring the safety and alignment of advanced AI systems is one of the most critical challenges of our time. As AI technology grows more capable, so do the potential risks associated with its deployment. This brings an urgent need for thoughtful, rigorous approaches to managing and mitigating those risks—both in the design of safe models and in anticipating potential challenges of AI alignment with human values. Anthropic’s unique focus on building interpretable, reliable AI systems and promoting research transparency strongly aligns with my vision of AI safety as a long-term, multi-disciplinary endeavor that requires both technical depth and ethical responsibility.\n",
      "Predicted label: AI-generated\n"
     ]
    }
   ],
   "source": [
    "sentence = \"I’m driven to work on AI safety at Anthropic because I believe that ensuring the safety and alignment of advanced AI systems is one of the most critical challenges of our time. As AI technology grows more capable, so do the potential risks associated with its deployment. This brings an urgent need for thoughtful, rigorous approaches to managing and mitigating those risks—both in the design of safe models and in anticipating potential challenges of AI alignment with human values. Anthropic’s unique focus on building interpretable, reliable AI systems and promoting research transparency strongly aligns with my vision of AI safety as a long-term, multi-disciplinary endeavor that requires both technical depth and ethical responsibility.\"\n",
    "\n",
    "\n",
    "inputs = tokenizer(sentence, return_tensors=\"pt\", padding=True, truncation=True, max_length=512)\n",
    "#inputs = {key: value.to(device) for key, value in inputs.items()}\n",
    "\n",
    "# Make prediction\n",
    "model.eval()  # Set model to evaluation mode\n",
    "with torch.no_grad():\n",
    "    outputs = model(**inputs)\n",
    "\n",
    "# Get predicted label (the class with the highest logit)\n",
    "predicted_class = outputs.logits.argmax(dim=-1).item()\n",
    "\n",
    "# Map the predicted class to a label\n",
    "labels = {0: 'Human-generated', 1: 'AI-generated', 2: 'Paraphrased'}\n",
    "predicted_label = labels[predicted_class]\n",
    "\n",
    "print(f\"Sentence: {sentence}\")\n",
    "print(f\"Predicted label: {predicted_label}\")"
   ]
  },
  {
   "cell_type": "code",
   "execution_count": null,
   "id": "WFnBgKPdRFVs",
   "metadata": {
    "id": "WFnBgKPdRFVs"
   },
   "outputs": [],
   "source": []
  },
  {
   "cell_type": "code",
   "execution_count": null,
   "id": "OHpTEYpKRFYT",
   "metadata": {
    "id": "OHpTEYpKRFYT"
   },
   "outputs": [],
   "source": [
    "# Confusion Matrix\n",
    "conf_matrix = confusion_matrix(test_df['label'], predicted_labels)\n",
    "\n",
    "# Plot Confusion Matrix\n",
    "plt.figure(figsize=(6, 6))\n",
    "sns.heatmap(conf_matrix, annot=True, fmt='d', cmap='Blues', xticklabels=['Human', 'AI', 'Paraphrased'], yticklabels=['Human', 'AI', 'Paraphrased'])\n",
    "plt.xlabel('Predicted')\n",
    "plt.ylabel('True')\n",
    "plt.title('Confusion Matrix')\n",
    "plt.show()\n",
    "\n",
    "# Plot Loss and Accuracy Curves\n",
    "train_losses = trainer.state.log_history\n",
    "train_loss = [log['loss'] for log in train_losses if 'loss' in log]\n",
    "eval_loss = [log['eval_loss'] for log in train_losses if 'eval_loss' in log]\n",
    "eval_accuracy = [log['eval_accuracy'] for log in train_losses if 'eval_accuracy' in log]\n",
    "\n",
    "plt.figure(figsize=(12, 6))\n",
    "\n",
    "# Plot Loss Curve\n",
    "plt.subplot(1, 2, 1)\n",
    "plt.plot(range(len(train_loss)), train_loss, label='Training Loss', color='blue')\n",
    "plt.plot(range(len(eval_loss)), eval_loss, label='Validation Loss', color='red')\n",
    "plt.xlabel('Epochs')\n",
    "plt.ylabel('Loss')\n",
    "plt.title('Loss Curve')\n",
    "plt.legend()\n",
    "\n",
    "# Plot Accuracy Curve\n",
    "plt.subplot(1, 2, 2)\n",
    "plt.plot(range(len(eval_accuracy)), eval_accuracy, label='Validation Accuracy', color='green')\n",
    "plt.xlabel('Epochs')\n",
    "plt.ylabel('Accuracy')\n",
    "plt.title('Accuracy Curve')\n",
    "plt.legend()\n",
    "\n",
    "plt.tight_layout()\n",
    "plt.show()\n",
    "\n",
    "# Step 11: Save the Fine-Tuned Model and Tokenizer\n",
    "model.save_pretrained('./fine_tuned_model_roberta_1')\n",
    "tokenizer.save_pretrained('./fine_tuned_model_roberta_1')\n",
    "\n",
    "print(\"Model and Tokenizer saved.\")"
   ]
  },
  {
   "cell_type": "markdown",
   "id": "64CbqV3o_LLp",
   "metadata": {
    "id": "64CbqV3o_LLp"
   },
   "source": [
    "Visuals"
   ]
  },
  {
   "cell_type": "code",
   "execution_count": 1,
   "id": "Zr3uYO7uRFa5",
   "metadata": {
    "colab": {
     "base_uri": "https://localhost:8080/"
    },
    "id": "Zr3uYO7uRFa5",
    "outputId": "b6794c22-e7a4-4557-f217-048ca6442f67"
   },
   "outputs": [
    {
     "name": "stdout",
     "output_type": "stream",
     "text": [
      "Mounted at /content/drive\n"
     ]
    }
   ],
   "source": [
    "from google.colab import drive\n",
    "drive.mount('/content/drive')\n"
   ]
  },
  {
   "cell_type": "code",
   "execution_count": 2,
   "id": "574VcU3qSfSz",
   "metadata": {
    "id": "574VcU3qSfSz"
   },
   "outputs": [],
   "source": [
    "#model_path = '/content/drive/MyDrive/DL_project/Electra/trained_model_electra_new_para_data'\n",
    "model_path = '/content/drive/MyDrive/DL_project/Roberta/roberta_1_fine_tuned_model'\n"
   ]
  },
  {
   "cell_type": "code",
   "execution_count": 3,
   "id": "fQtTFFJQSfUp",
   "metadata": {
    "colab": {
     "base_uri": "https://localhost:8080/"
    },
    "id": "fQtTFFJQSfUp",
    "outputId": "671e6c98-98fd-43d2-991b-cd03a2f9706d"
   },
   "outputs": [
    {
     "name": "stdout",
     "output_type": "stream",
     "text": [
      "True\n"
     ]
    }
   ],
   "source": [
    "import os\n",
    "#print(os.path.exists('/content/drive/MyDrive/DL_project/Electra/trained_model_electra_new_para_data'))  # Should print True if the folder exists\n",
    "print(os.path.exists('/content/drive/MyDrive/DL_project/Roberta/roberta_1_fine_tuned_model'))  # Should print True if the folder exists\n"
   ]
  },
  {
   "cell_type": "code",
   "execution_count": 4,
   "id": "Rww3-TwN-Fc7",
   "metadata": {
    "id": "Rww3-TwN-Fc7"
   },
   "outputs": [],
   "source": [
    "from transformers import RobertaForSequenceClassification, RobertaTokenizer\n",
    "\n",
    "# Load the RoBERTa model\n",
    "model = RobertaForSequenceClassification.from_pretrained(model_path)\n",
    "\n",
    "# Load the RoBERTa tokenizer\n",
    "tokenizer = RobertaTokenizer.from_pretrained(model_path)\n"
   ]
  },
  {
   "cell_type": "code",
   "execution_count": 5,
   "id": "wAsxUXym-FfS",
   "metadata": {
    "colab": {
     "base_uri": "https://localhost:8080/"
    },
    "id": "wAsxUXym-FfS",
    "outputId": "35348246-f915-4d02-9e54-cacc58cca835"
   },
   "outputs": [
    {
     "name": "stdout",
     "output_type": "stream",
     "text": [
      "Requirement already satisfied: transformers in /usr/local/lib/python3.10/dist-packages (4.46.2)\n",
      "Collecting datasets\n",
      "  Downloading datasets-3.1.0-py3-none-any.whl.metadata (20 kB)\n",
      "Requirement already satisfied: scikit-learn in /usr/local/lib/python3.10/dist-packages (1.5.2)\n",
      "Requirement already satisfied: matplotlib in /usr/local/lib/python3.10/dist-packages (3.8.0)\n",
      "Requirement already satisfied: seaborn in /usr/local/lib/python3.10/dist-packages (0.13.2)\n",
      "Requirement already satisfied: filelock in /usr/local/lib/python3.10/dist-packages (from transformers) (3.16.1)\n",
      "Requirement already satisfied: huggingface-hub<1.0,>=0.23.2 in /usr/local/lib/python3.10/dist-packages (from transformers) (0.26.2)\n",
      "Requirement already satisfied: numpy>=1.17 in /usr/local/lib/python3.10/dist-packages (from transformers) (1.26.4)\n",
      "Requirement already satisfied: packaging>=20.0 in /usr/local/lib/python3.10/dist-packages (from transformers) (24.2)\n",
      "Requirement already satisfied: pyyaml>=5.1 in /usr/local/lib/python3.10/dist-packages (from transformers) (6.0.2)\n",
      "Requirement already satisfied: regex!=2019.12.17 in /usr/local/lib/python3.10/dist-packages (from transformers) (2024.9.11)\n",
      "Requirement already satisfied: requests in /usr/local/lib/python3.10/dist-packages (from transformers) (2.32.3)\n",
      "Requirement already satisfied: safetensors>=0.4.1 in /usr/local/lib/python3.10/dist-packages (from transformers) (0.4.5)\n",
      "Requirement already satisfied: tokenizers<0.21,>=0.20 in /usr/local/lib/python3.10/dist-packages (from transformers) (0.20.3)\n",
      "Requirement already satisfied: tqdm>=4.27 in /usr/local/lib/python3.10/dist-packages (from transformers) (4.66.6)\n",
      "Requirement already satisfied: pyarrow>=15.0.0 in /usr/local/lib/python3.10/dist-packages (from datasets) (17.0.0)\n",
      "Collecting dill<0.3.9,>=0.3.0 (from datasets)\n",
      "  Downloading dill-0.3.8-py3-none-any.whl.metadata (10 kB)\n",
      "Requirement already satisfied: pandas in /usr/local/lib/python3.10/dist-packages (from datasets) (2.2.2)\n",
      "Collecting xxhash (from datasets)\n",
      "  Downloading xxhash-3.5.0-cp310-cp310-manylinux_2_17_x86_64.manylinux2014_x86_64.whl.metadata (12 kB)\n",
      "Collecting multiprocess<0.70.17 (from datasets)\n",
      "  Downloading multiprocess-0.70.16-py310-none-any.whl.metadata (7.2 kB)\n",
      "Collecting fsspec<=2024.9.0,>=2023.1.0 (from fsspec[http]<=2024.9.0,>=2023.1.0->datasets)\n",
      "  Downloading fsspec-2024.9.0-py3-none-any.whl.metadata (11 kB)\n",
      "Requirement already satisfied: aiohttp in /usr/local/lib/python3.10/dist-packages (from datasets) (3.11.2)\n",
      "Requirement already satisfied: scipy>=1.6.0 in /usr/local/lib/python3.10/dist-packages (from scikit-learn) (1.13.1)\n",
      "Requirement already satisfied: joblib>=1.2.0 in /usr/local/lib/python3.10/dist-packages (from scikit-learn) (1.4.2)\n",
      "Requirement already satisfied: threadpoolctl>=3.1.0 in /usr/local/lib/python3.10/dist-packages (from scikit-learn) (3.5.0)\n",
      "Requirement already satisfied: contourpy>=1.0.1 in /usr/local/lib/python3.10/dist-packages (from matplotlib) (1.3.1)\n",
      "Requirement already satisfied: cycler>=0.10 in /usr/local/lib/python3.10/dist-packages (from matplotlib) (0.12.1)\n",
      "Requirement already satisfied: fonttools>=4.22.0 in /usr/local/lib/python3.10/dist-packages (from matplotlib) (4.55.0)\n",
      "Requirement already satisfied: kiwisolver>=1.0.1 in /usr/local/lib/python3.10/dist-packages (from matplotlib) (1.4.7)\n",
      "Requirement already satisfied: pillow>=6.2.0 in /usr/local/lib/python3.10/dist-packages (from matplotlib) (11.0.0)\n",
      "Requirement already satisfied: pyparsing>=2.3.1 in /usr/local/lib/python3.10/dist-packages (from matplotlib) (3.2.0)\n",
      "Requirement already satisfied: python-dateutil>=2.7 in /usr/local/lib/python3.10/dist-packages (from matplotlib) (2.8.2)\n",
      "Requirement already satisfied: aiohappyeyeballs>=2.3.0 in /usr/local/lib/python3.10/dist-packages (from aiohttp->datasets) (2.4.3)\n",
      "Requirement already satisfied: aiosignal>=1.1.2 in /usr/local/lib/python3.10/dist-packages (from aiohttp->datasets) (1.3.1)\n",
      "Requirement already satisfied: attrs>=17.3.0 in /usr/local/lib/python3.10/dist-packages (from aiohttp->datasets) (24.2.0)\n",
      "Requirement already satisfied: frozenlist>=1.1.1 in /usr/local/lib/python3.10/dist-packages (from aiohttp->datasets) (1.5.0)\n",
      "Requirement already satisfied: multidict<7.0,>=4.5 in /usr/local/lib/python3.10/dist-packages (from aiohttp->datasets) (6.1.0)\n",
      "Requirement already satisfied: propcache>=0.2.0 in /usr/local/lib/python3.10/dist-packages (from aiohttp->datasets) (0.2.0)\n",
      "Requirement already satisfied: yarl<2.0,>=1.17.0 in /usr/local/lib/python3.10/dist-packages (from aiohttp->datasets) (1.17.2)\n",
      "Requirement already satisfied: async-timeout<6.0,>=4.0 in /usr/local/lib/python3.10/dist-packages (from aiohttp->datasets) (4.0.3)\n",
      "Requirement already satisfied: typing-extensions>=3.7.4.3 in /usr/local/lib/python3.10/dist-packages (from huggingface-hub<1.0,>=0.23.2->transformers) (4.12.2)\n",
      "Requirement already satisfied: pytz>=2020.1 in /usr/local/lib/python3.10/dist-packages (from pandas->datasets) (2024.2)\n",
      "Requirement already satisfied: tzdata>=2022.7 in /usr/local/lib/python3.10/dist-packages (from pandas->datasets) (2024.2)\n",
      "Requirement already satisfied: six>=1.5 in /usr/local/lib/python3.10/dist-packages (from python-dateutil>=2.7->matplotlib) (1.16.0)\n",
      "Requirement already satisfied: charset-normalizer<4,>=2 in /usr/local/lib/python3.10/dist-packages (from requests->transformers) (3.4.0)\n",
      "Requirement already satisfied: idna<4,>=2.5 in /usr/local/lib/python3.10/dist-packages (from requests->transformers) (3.10)\n",
      "Requirement already satisfied: urllib3<3,>=1.21.1 in /usr/local/lib/python3.10/dist-packages (from requests->transformers) (2.2.3)\n",
      "Requirement already satisfied: certifi>=2017.4.17 in /usr/local/lib/python3.10/dist-packages (from requests->transformers) (2024.8.30)\n",
      "Downloading datasets-3.1.0-py3-none-any.whl (480 kB)\n",
      "\u001b[2K   \u001b[90m━━━━━━━━━━━━━━━━━━━━━━━━━━━━━━━━━━━━━━━━\u001b[0m \u001b[32m480.6/480.6 kB\u001b[0m \u001b[31m12.9 MB/s\u001b[0m eta \u001b[36m0:00:00\u001b[0m\n",
      "\u001b[?25hDownloading dill-0.3.8-py3-none-any.whl (116 kB)\n",
      "\u001b[2K   \u001b[90m━━━━━━━━━━━━━━━━━━━━━━━━━━━━━━━━━━━━━━━━\u001b[0m \u001b[32m116.3/116.3 kB\u001b[0m \u001b[31m11.3 MB/s\u001b[0m eta \u001b[36m0:00:00\u001b[0m\n",
      "\u001b[?25hDownloading fsspec-2024.9.0-py3-none-any.whl (179 kB)\n",
      "\u001b[2K   \u001b[90m━━━━━━━━━━━━━━━━━━━━━━━━━━━━━━━━━━━━━━━━\u001b[0m \u001b[32m179.3/179.3 kB\u001b[0m \u001b[31m14.4 MB/s\u001b[0m eta \u001b[36m0:00:00\u001b[0m\n",
      "\u001b[?25hDownloading multiprocess-0.70.16-py310-none-any.whl (134 kB)\n",
      "\u001b[2K   \u001b[90m━━━━━━━━━━━━━━━━━━━━━━━━━━━━━━━━━━━━━━━━\u001b[0m \u001b[32m134.8/134.8 kB\u001b[0m \u001b[31m14.3 MB/s\u001b[0m eta \u001b[36m0:00:00\u001b[0m\n",
      "\u001b[?25hDownloading xxhash-3.5.0-cp310-cp310-manylinux_2_17_x86_64.manylinux2014_x86_64.whl (194 kB)\n",
      "\u001b[2K   \u001b[90m━━━━━━━━━━━━━━━━━━━━━━━━━━━━━━━━━━━━━━━━\u001b[0m \u001b[32m194.1/194.1 kB\u001b[0m \u001b[31m17.6 MB/s\u001b[0m eta \u001b[36m0:00:00\u001b[0m\n",
      "\u001b[?25hInstalling collected packages: xxhash, fsspec, dill, multiprocess, datasets\n",
      "  Attempting uninstall: fsspec\n",
      "    Found existing installation: fsspec 2024.10.0\n",
      "    Uninstalling fsspec-2024.10.0:\n",
      "      Successfully uninstalled fsspec-2024.10.0\n",
      "\u001b[31mERROR: pip's dependency resolver does not currently take into account all the packages that are installed. This behaviour is the source of the following dependency conflicts.\n",
      "gcsfs 2024.10.0 requires fsspec==2024.10.0, but you have fsspec 2024.9.0 which is incompatible.\u001b[0m\u001b[31m\n",
      "\u001b[0mSuccessfully installed datasets-3.1.0 dill-0.3.8 fsspec-2024.9.0 multiprocess-0.70.16 xxhash-3.5.0\n"
     ]
    }
   ],
   "source": [
    "pip install transformers datasets scikit-learn matplotlib seaborn\n"
   ]
  },
  {
   "cell_type": "code",
   "execution_count": 6,
   "id": "fZtKk1RZ-Fha",
   "metadata": {
    "id": "fZtKk1RZ-Fha"
   },
   "outputs": [],
   "source": [
    "import pandas as pd\n",
    "from sklearn.model_selection import train_test_split\n",
    "from datasets import Dataset\n",
    "\n",
    "# Load your datasets\n",
    "df_human = pd.read_csv(\"/content/drive/MyDrive/DL_project/Roberta/human.csv\")\n",
    "df_ai = pd.read_csv(\"/content/drive/MyDrive/DL_project/Roberta/ai.csv\")\n",
    "df_paraphrased = pd.read_csv(\"/content/drive/MyDrive/DL_project/Roberta/paraphrased.csv\")\n",
    "\n",
    "# Assign labels and prepare data (same as before)\n",
    "df_human['label'] = 0\n",
    "df_ai['label'] = 1\n",
    "df_paraphrased['label'] = 2\n",
    "\n",
    "# Selecting only the 'abstract' and 'label' columns\n",
    "df_human = df_human[['abstract', 'label']]\n",
    "df_ai = df_ai[['abstract', 'label']]\n",
    "df_paraphrased = df_paraphrased[['abstract', 'label']]\n",
    "\n",
    "# Concatenate all DataFrames into one\n",
    "df = pd.concat([df_human, df_ai, df_paraphrased], ignore_index=True)\n",
    "\n",
    "# Shuffle dataset\n",
    "df = df.sample(frac=1, random_state=42).reset_index(drop=True)\n",
    "\n",
    "# Split the dataset into training and test sets (80% train, 20% test)\n",
    "train_df, test_df = train_test_split(df, test_size=0.2, random_state=42)\n",
    "\n",
    "# Tokenize the test data (use the saved tokenizer)\n",
    "test_encodings = tokenizer(test_df['abstract'].tolist(), padding=True, truncation=True, max_length=512)\n",
    "test_dataset = Dataset.from_dict({\n",
    "    'input_ids': test_encodings['input_ids'],\n",
    "    'attention_mask': test_encodings['attention_mask'],\n",
    "    'labels': test_df['label'].values\n",
    "})\n"
   ]
  },
  {
   "cell_type": "code",
   "execution_count": 8,
   "id": "kleasMtV_n4m",
   "metadata": {
    "colab": {
     "base_uri": "https://localhost:8080/"
    },
    "id": "kleasMtV_n4m",
    "outputId": "bae1709b-1e7b-4bd7-90c7-811b900a7169"
   },
   "outputs": [
    {
     "name": "stdout",
     "output_type": "stream",
     "text": [
      "               precision    recall  f1-score   support\n",
      "\n",
      "Human-written       0.99      0.85      0.91      3059\n",
      " AI-generated       0.95      1.00      0.97      3088\n",
      "  Paraphrased       0.87      0.94      0.90      3090\n",
      "\n",
      "     accuracy                           0.93      9237\n",
      "    macro avg       0.93      0.93      0.93      9237\n",
      " weighted avg       0.93      0.93      0.93      9237\n",
      "\n"
     ]
    }
   ],
   "source": [
    "import torch\n",
    "from torch.utils.data import DataLoader\n",
    "from sklearn.metrics import classification_report\n",
    "\n",
    "# Ensure the model is on the correct device (GPU if available)\n",
    "device = torch.device('cuda' if torch.cuda.is_available() else 'cpu')\n",
    "model.to(device)\n",
    "\n",
    "# Define a collate_fn to return batches as a dictionary of tensors\n",
    "def collate_fn(batch):\n",
    "    return {\n",
    "        'input_ids': torch.tensor([item['input_ids'] for item in batch]).to(device),\n",
    "        'attention_mask': torch.tensor([item['attention_mask'] for item in batch]).to(device),\n",
    "        'labels': torch.tensor([item['labels'] for item in batch]).to(device)\n",
    "    }\n",
    "\n",
    "# Create a DataLoader for batching, using collate_fn to format each batch\n",
    "test_dataloader = DataLoader(test_dataset, batch_size=32, collate_fn=collate_fn)  # Increased batch size to 32\n",
    "\n",
    "# Set the model to evaluation mode\n",
    "model.eval()\n",
    "\n",
    "# List to store predictions\n",
    "predictions = []\n",
    "\n",
    "# Perform prediction on the test set using batches\n",
    "with torch.no_grad():\n",
    "    for batch in test_dataloader:\n",
    "        # Get inputs and move them to the correct device\n",
    "        input_ids = batch['input_ids'].to(device)\n",
    "        attention_mask = batch['attention_mask'].to(device)\n",
    "\n",
    "        # Forward pass through the model\n",
    "        outputs = model(input_ids=input_ids, attention_mask=attention_mask)\n",
    "\n",
    "        # Get predicted labels by selecting the class with the highest logit\n",
    "        logits = outputs.logits\n",
    "        preds = torch.argmax(logits, dim=-1).cpu().numpy()\n",
    "\n",
    "        # Append predictions to the list\n",
    "        predictions.extend(preds)\n",
    "\n",
    "# Get the true labels\n",
    "true_labels = test_df['label'].values\n",
    "\n",
    "# Print the classification report\n",
    "report = classification_report(true_labels, predictions, target_names=['Human-written', 'AI-generated', 'Paraphrased'])\n",
    "print(report)\n"
   ]
  },
  {
   "cell_type": "code",
   "execution_count": 12,
   "id": "lH-ZLkLx_n6e",
   "metadata": {
    "colab": {
     "base_uri": "https://localhost:8080/",
     "height": 563
    },
    "id": "lH-ZLkLx_n6e",
    "outputId": "630e4c7b-7456-4ff8-900f-567e0caeaff8"
   },
   "outputs": [
    {
     "data": {
      "image/png": "[encoded data removed]",
      "text/plain": [
       "<Figure size 800x600 with 1 Axes>"
      ]
     },
     "metadata": {},
     "output_type": "display_data"
    }
   ],
   "source": [
    "import seaborn as sns\n",
    "import matplotlib.pyplot as plt\n",
    "from sklearn.metrics import confusion_matrix\n",
    "\n",
    "# Get confusion matrix\n",
    "cm = confusion_matrix(true_labels, predictions)\n",
    "\n",
    "# Plot confusion matrix\n",
    "plt.figure(figsize=(8, 6))\n",
    "sns.heatmap(cm, annot=True, fmt='d', cmap='Blues', xticklabels=['Human-written', 'AI-generated', 'Paraphrased'],\n",
    "            yticklabels=['Human-written', 'AI-generated', 'Paraphrased'], cbar=False)\n",
    "\n",
    "plt.title(\"Confusion Matrix\")\n",
    "plt.xlabel(\"Predicted Labels\")\n",
    "plt.ylabel(\"True Labels\")\n",
    "plt.show()\n"
   ]
  },
  {
   "cell_type": "code",
   "execution_count": 18,
   "id": "ES8P_4bFD3xx",
   "metadata": {
    "colab": {
     "base_uri": "https://localhost:8080/",
     "height": 607
    },
    "id": "ES8P_4bFD3xx",
    "outputId": "a6ad6cf4-e83e-414f-e44c-caf38237f834"
   },
   "outputs": [
    {
     "data": {
      "image/png": "[encoded data removed]",
      "text/plain": [
       "<Figure size 800x600 with 1 Axes>"
      ]
     },
     "metadata": {},
     "output_type": "display_data"
    }
   ],
   "source": [
    "from sklearn.metrics import roc_curve, auc\n",
    "from sklearn.preprocessing import label_binarize\n",
    "\n",
    "# Binarize the labels (one-hot encoding)\n",
    "true_binary = label_binarize(true_labels, classes=[0, 1, 2])\n",
    "pred_binary = label_binarize(predictions, classes=[0, 1, 2])\n",
    "\n",
    "# Calculate ROC curve and AUC for each class\n",
    "fpr = {}\n",
    "tpr = {}\n",
    "roc_auc = {}\n",
    "\n",
    "for i in range(3):\n",
    "    fpr[i], tpr[i], _ = roc_curve(true_binary[:, i], pred_binary[:, i])\n",
    "    roc_auc[i] = auc(fpr[i], tpr[i])\n",
    "\n",
    "# Plot ROC curves\n",
    "plt.figure(figsize=(8, 6))\n",
    "\n",
    "for i in range(3):\n",
    "    plt.plot(fpr[i], tpr[i], label=f'Class {i} (AUC = {roc_auc[i]:.2f})')\n",
    "\n",
    "plt.plot([0, 1], [0, 1], 'k--', label='Random Guessing (AUC = 0.50)')\n",
    "plt.xlabel('False Positive Rate')\n",
    "plt.ylabel('True Positive Rate')\n",
    "plt.title('ROC Curve for Each Class')\n",
    "plt.legend(loc='lower right')\n",
    "\n",
    "plt.tight_layout()\n",
    "plt.show()\n"
   ]
  },
  {
   "cell_type": "code",
   "execution_count": 22,
   "id": "GPi5HVZYD3z3",
   "metadata": {
    "colab": {
     "base_uri": "https://localhost:8080/",
     "height": 607
    },
    "id": "GPi5HVZYD3z3",
    "outputId": "cf7ff340-e72d-49e3-b73e-d39a3b8f9440"
   },
   "outputs": [
    {
     "data": {
      "image/png": "[encoded data removed]",
      "text/plain": [
       "<Figure size 800x600 with 1 Axes>"
      ]
     },
     "metadata": {},
     "output_type": "display_data"
    }
   ],
   "source": [
    "from sklearn.metrics import precision_recall_curve\n",
    "\n",
    "# Calculate precision-recall curve for each class\n",
    "precision_class = {}\n",
    "recall_class = {}\n",
    "thresholds_class = {}\n",
    "\n",
    "for i in range(3):\n",
    "    precision_class[i], recall_class[i], thresholds_class[i] = precision_recall_curve(true_binary[:, i], pred_binary[:, i])\n",
    "\n",
    "# Plot Precision-Recall curves\n",
    "plt.figure(figsize=(8, 6))\n",
    "\n",
    "for i in range(3):\n",
    "    plt.plot(recall_class[i], precision_class[i], label=f'Class {i}')\n",
    "\n",
    "plt.xlabel('Recall')\n",
    "plt.ylabel('Precision')\n",
    "plt.title('Precision-Recall Curve for Each Class')\n",
    "plt.legend(loc='lower left')\n",
    "\n",
    "plt.tight_layout()\n",
    "plt.show()\n"
   ]
  },
  {
   "cell_type": "code",
   "execution_count": 23,
   "id": "6NMTTPI_D32G",
   "metadata": {
    "colab": {
     "base_uri": "https://localhost:8080/",
     "height": 607
    },
    "id": "6NMTTPI_D32G",
    "outputId": "29e91977-ef64-4b93-d65a-d7b0c7476b6b"
   },
   "outputs": [
    {
     "data": {
      "image/png": "[encoded data removed]",
      "text/plain": [
       "<Figure size 800x600 with 1 Axes>"
      ]
     },
     "metadata": {},
     "output_type": "display_data"
    }
   ],
   "source": [
    "import matplotlib.pyplot as plt\n",
    "\n",
    "# Example data (replace with your actual loss values)\n",
    "epochs = [1, 2, 3]\n",
    "train_losses = [0.3139, 0.0014, 0.0249]\n",
    "val_losses = [0.4161, 0.3797, 0.4054]\n",
    "\n",
    "# Plot the losses\n",
    "plt.figure(figsize=(8, 6))\n",
    "plt.plot(epochs, train_losses, label='Training Loss', marker='o', color='b')\n",
    "plt.plot(epochs, val_losses, label='Validation Loss', marker='s', color='r')\n",
    "\n",
    "plt.xlabel('Epochs')\n",
    "plt.ylabel('Loss')\n",
    "plt.title('Training vs Validation Loss Over Epochs')\n",
    "plt.legend()\n",
    "\n",
    "plt.tight_layout()\n",
    "plt.show()\n"
   ]
  },
  {
   "cell_type": "code",
   "execution_count": 40,
   "id": "-ojot50lHNgL",
   "metadata": {
    "id": "-ojot50lHNgL"
   },
   "outputs": [],
   "source": [
    "import torch\n",
    "# Sample text to analyze\n",
    "text = \"\"\"\n",
    "\n",
    "Self Consistency (COT) Goal: The Self Consistency technique is used to enhance the forecast accuracy and dependability of the model. In this method, various outputs are generated for the same input, and the most consistent response among all the created answers is used to determine the final output.\n",
    "Application: Several outputs are generated for each query in each model, and the most reliable answer is chosen. This method produces more trustworthy outcomes by reducing biases and inconsistencies in the model's predictions.\n",
    "Direct Prompt Objective: When simple, straightforward responses are required, then direct prompting is used. In this approach, the model is given a very clear and concise instruction to which it is expected to provide a direct response without having to use complex logic or numerous steps.\n",
    "Application: The models are directly prompted to instantiate responses for immediate answers when the task requires only simple fact retrieval or classification. In this way, the models can focus on generating responses with accuracy and speed where the task at hand does not require reasoning or elaborate instructions.\n",
    "\n",
    "\n",
    "\"\"\"\n",
    "\n",
    "prompts = [\n",
    "    \"Is this text written by a human, generated by AI, or paraphrased from an existing source? Please identify any markers or patterns that support your answer.\",  # Complex prompt with focus on markers\n",
    "    \"What linguistic, stylistic, or structural features in this text suggest it is human-written, AI-generated, or paraphrased? Highlight specific elements like tone, coherence, or originality.\",  # More in-depth feature-based analysis\n",
    "    \"Does this text exhibit common features of human authorship, AI generation (like GPT), or paraphrasing from another work? Consider factors like vocabulary, sentence complexity, and context repetition.\",  # Deeper into patterns and features\n",
    "    \"What are the primary distinctions between human-written, AI-generated, and paraphrased texts? Analyze aspects such as creativity, consistency, structure, and originality. How do these features influence the classification?\",  # Detailed comparative analysis\n",
    "]\n",
    "\n",
    "\n"
   ]
  },
  {
   "cell_type": "code",
   "execution_count": 41,
   "id": "MBhsMOhuHNi8",
   "metadata": {
    "colab": {
     "base_uri": "https://localhost:8080/"
    },
    "id": "MBhsMOhuHNi8",
    "outputId": "1a2ee4ec-04d2-45c0-ec8a-dd61ada659e6"
   },
   "outputs": [
    {
     "name": "stdout",
     "output_type": "stream",
     "text": [
      "Prompt: Is this text written by a human, generated by AI, or paraphrased from an existing source? Please identify any markers or patterns that support your answer.\n",
      "Prediction: Paraphrased\n",
      "\n",
      "\n",
      "Prompt: What linguistic, stylistic, or structural features in this text suggest it is human-written, AI-generated, or paraphrased? Highlight specific elements like tone, coherence, or originality.\n",
      "Prediction: Paraphrased\n",
      "\n",
      "\n",
      "Prompt: Does this text exhibit common features of human authorship, AI generation (like GPT), or paraphrasing from another work? Consider factors like vocabulary, sentence complexity, and context repetition.\n",
      "Prediction: Human-written\n",
      "\n",
      "\n",
      "Prompt: What are the primary distinctions between human-written, AI-generated, and paraphrased texts? Analyze aspects such as creativity, consistency, structure, and originality. How do these features influence the classification?\n",
      "Prediction: Paraphrased\n",
      "\n",
      "\n"
     ]
    }
   ],
   "source": [
    "import torch\n",
    "\n",
    "def get_prediction(prompt, text, device):\n",
    "    # Tokenize input and model prediction\n",
    "    inputs = tokenizer(prompt + \" \" + text, return_tensors=\"pt\", padding=True, truncation=True, max_length=512)\n",
    "\n",
    "    # Move inputs to the same device as the model\n",
    "    inputs = {key: value.to(device) for key, value in inputs.items()}\n",
    "\n",
    "    # Perform the model prediction\n",
    "    with torch.no_grad():\n",
    "        outputs = model(**inputs)\n",
    "    logits = outputs.logits\n",
    "    predicted_class = torch.argmax(logits, dim=-1).item()  # Convert logits to predicted class (0, 1, or 2)\n",
    "    return predicted_class\n",
    "\n",
    "# Ensure the model is on the correct device (GPU if available)\n",
    "device = torch.device('cuda' if torch.cuda.is_available() else 'cpu')\n",
    "model.to(device)\n",
    "\n",
    "# Implement Least-to-Most prompting\n",
    "for prompt in prompts:\n",
    "    result = get_prediction(prompt, text, device)\n",
    "    prediction_label = 'AI-generated' if result == 1 else 'Human-written' if result == 0 else 'Paraphrased'\n",
    "    print(f\"Prompt: {prompt}\")\n",
    "    print(f\"Prediction: {prediction_label}\")\n",
    "    print(\"\\n\")\n"
   ]
  },
  {
   "cell_type": "code",
   "execution_count": null,
   "id": "fi9pYWtcHsOn",
   "metadata": {
    "id": "fi9pYWtcHsOn"
   },
   "outputs": [],
   "source": []
  },
  {
   "cell_type": "code",
   "execution_count": null,
   "id": "KAGJNcfDHsQq",
   "metadata": {
    "id": "KAGJNcfDHsQq"
   },
   "outputs": [],
   "source": []
  },
  {
   "cell_type": "code",
   "execution_count": null,
   "id": "dVApZXfLHsTO",
   "metadata": {
    "id": "dVApZXfLHsTO"
   },
   "outputs": [],
   "source": []
  },
  {
   "cell_type": "markdown",
   "id": "RYP6bpihMhGt",
   "metadata": {
    "id": "RYP6bpihMhGt"
   },
   "source": [
    "**Least to Most**"
   ]
  },
  {
   "cell_type": "code",
   "execution_count": 4,
   "id": "IesTLO1-SfXN",
   "metadata": {
    "id": "IesTLO1-SfXN"
   },
   "outputs": [],
   "source": [
    "from transformers import ElectraForSequenceClassification, ElectraTokenizer\n",
    "\n",
    "model = ElectraForSequenceClassification.from_pretrained(model_path)\n",
    "\n",
    "# Load the ELECTRA tokenizer\n",
    "tokenizer = ElectraTokenizer.from_pretrained(model_path)\n"
   ]
  },
  {
   "cell_type": "code",
   "execution_count": 30,
   "id": "34977f61-6b02-4b1c-b193-1b5ea7b822f9",
   "metadata": {
    "id": "34977f61-6b02-4b1c-b193-1b5ea7b822f9"
   },
   "outputs": [],
   "source": [
    "import torch\n",
    "# Sample text to analyze\n",
    "text = \"\"\"\n",
    "Reliable data is the most important aspect for this project. Around 83,100 raw datasets are collected and web-scraped, containing human-written, polished, and AI-generated texts as shown in Figure 3a. Data Science questions and answers are web scraped from reliable sources like GeeksforGeeks and simplilearn and the answers are labeled as human written text. The web scraped questions are then provided to ChatGPT4 and the answers generated by the AI are classified into AI-generated text. Further to get polished text, tools like Grammarly, Quillbot are used and outputs generated from these tools are labeled as paraphrased text. Web Scraped data collected in raw form is shown in Figure 3b. Raw unprocessed data is shown in Figure 3c.\n",
    "\n",
    "\"\"\"\n",
    "\n",
    "prompts = [\n",
    "    \"Is this text written by a human, generated by AI, or paraphrased from an existing source? Please identify any markers or patterns that support your answer.\",  # Complex prompt with focus on markers\n",
    "    \"What linguistic, stylistic, or structural features in this text suggest it is human-written, AI-generated, or paraphrased? Highlight specific elements like tone, coherence, or originality.\",  # More in-depth feature-based analysis\n",
    "    \"Does this text exhibit common features of human authorship, AI generation (like GPT), or paraphrasing from another work? Consider factors like vocabulary, sentence complexity, and context repetition.\",  # Deeper into patterns and features\n",
    "    \"What are the primary distinctions between human-written, AI-generated, and paraphrased texts? Analyze aspects such as creativity, consistency, structure, and originality. How do these features influence the classification?\",  # Detailed comparative analysis\n",
    "]\n",
    "\n",
    "\n"
   ]
  },
  {
   "cell_type": "code",
   "execution_count": null,
   "id": "ef169220-f7ae-4c70-9797-79a64634c152",
   "metadata": {
    "colab": {
     "base_uri": "https://localhost:8080/"
    },
    "id": "ef169220-f7ae-4c70-9797-79a64634c152",
    "outputId": "d41c07fc-cc9d-4e58-9a8f-08774cb4fdd0"
   },
   "outputs": [
    {
     "name": "stdout",
     "output_type": "stream",
     "text": [
      "Prompt: Is this text written by a human, generated by AI, or paraphrased from an existing source? Please identify any markers or patterns that support your answer.\n",
      "Prediction: Human-written\n",
      "\n",
      "\n",
      "Prompt: What linguistic, stylistic, or structural features in this text suggest it is human-written, AI-generated, or paraphrased? Highlight specific elements like tone, coherence, or originality.\n",
      "Prediction: Human-written\n",
      "\n",
      "\n",
      "Prompt: Does this text exhibit common features of human authorship, AI generation (like GPT), or paraphrasing from another work? Consider factors like vocabulary, sentence complexity, and context repetition.\n",
      "Prediction: Human-written\n",
      "\n",
      "\n",
      "Prompt: What are the primary distinctions between human-written, AI-generated, and paraphrased texts? Analyze aspects such as creativity, consistency, structure, and originality. How do these features influence the classification?\n",
      "Prediction: Human-written\n",
      "\n",
      "\n"
     ]
    }
   ],
   "source": [
    "def get_prediction(prompt, text):\n",
    "    # Tokenize input and model prediction\n",
    "    inputs = tokenizer(prompt + \" \" + text, return_tensors=\"pt\", padding=True, truncation=True, max_length=512)\n",
    "    with torch.no_grad():\n",
    "        outputs = model(**inputs)\n",
    "    logits = outputs.logits\n",
    "    predicted_class = torch.argmax(logits, dim=-1).item()  # Convert logits to predicted class (0, 1, or 2)\n",
    "    return predicted_class\n",
    "\n",
    "# Implement Least-to-Most prompting\n",
    "for prompt in prompts:\n",
    "    result = get_prediction(prompt, text)\n",
    "    prediction_label = 'AI-generated' if result == 1 else 'Human-written' if result == 0 else 'Paraphrased'\n",
    "    print(f\"Prompt: {prompt}\")\n",
    "    print(f\"Prediction: {prediction_label}\")\n",
    "    print(\"\\n\")\n"
   ]
  },
  {
   "cell_type": "code",
   "execution_count": null,
   "id": "d1910be5-5e25-4244-9663-ee82a048e39f",
   "metadata": {
    "colab": {
     "base_uri": "https://localhost:8080/"
    },
    "id": "d1910be5-5e25-4244-9663-ee82a048e39f",
    "outputId": "8576b7ae-007b-4a3b-8b7a-9e86bac8f9e8"
   },
   "outputs": [
    {
     "name": "stdout",
     "output_type": "stream",
     "text": [
      "Logits: tensor([[ 5.5168, -6.1764, -0.6076]])\n",
      "Prompt: Is this text human-written, AI-generated, or paraphrased from another source?\n",
      "Logits: tensor([[ 5.5168, -6.1764, -0.6076]])\n",
      "Prediction: Human-written\n",
      "\n",
      "\n",
      "Logits: tensor([[ 5.8505, -5.8872, -1.2013]])\n",
      "Prompt: What makes this text appear human-written, AI-generated, or paraphrased from another source?\n",
      "Logits: tensor([[ 5.8505, -5.8872, -1.2013]])\n",
      "Prediction: Human-written\n",
      "\n",
      "\n",
      "Logits: tensor([[ 5.0901, -6.3583,  0.0117]])\n",
      "Prompt: Does this text resemble typical patterns of human-written content, AI-generated content, or paraphrased text?\n",
      "Logits: tensor([[ 5.0901, -6.3583,  0.0117]])\n",
      "Prediction: Human-written\n",
      "\n",
      "\n",
      "Logits: tensor([[ 5.7321, -6.0023, -0.9735]])\n",
      "Prompt: What are the key differences between human-written text, AI-generated text, and paraphrased content?\n",
      "Logits: tensor([[ 5.7321, -6.0023, -0.9735]])\n",
      "Prediction: Human-written\n",
      "\n",
      "\n"
     ]
    }
   ],
   "source": [
    "def get_prediction_with_logits(prompt, text):\n",
    "    # Tokenize input and model prediction\n",
    "    inputs = tokenizer(prompt + \" \" + text, return_tensors=\"pt\", padding=True, truncation=True, max_length=512)\n",
    "    with torch.no_grad():\n",
    "        outputs = model(**inputs)\n",
    "    logits = outputs.logits\n",
    "    print(f\"Logits: {logits}\")\n",
    "    predicted_class = torch.argmax(logits, dim=-1).item()  # Convert logits to predicted class (0, 1, or 2)\n",
    "    return predicted_class, logits\n",
    "\n",
    "# Implement Least-to-Most prompting\n",
    "for prompt in prompts:\n",
    "    result, logits = get_prediction_with_logits(prompt, text)\n",
    "    prediction_label = 'AI-generated' if result == 1 else 'Human-written' if result == 0 else 'Paraphrased'\n",
    "    print(f\"Prompt: {prompt}\")\n",
    "    print(f\"Logits: {logits}\")\n",
    "    print(f\"Prediction: {prediction_label}\")\n",
    "    print(\"\\n\")\n"
   ]
  },
  {
   "cell_type": "code",
   "execution_count": null,
   "id": "cXzAUzFWB9UU",
   "metadata": {
    "colab": {
     "base_uri": "https://localhost:8080/",
     "height": 471
    },
    "id": "cXzAUzFWB9UU",
    "outputId": "b097725f-931e-46c9-d7d1-18a169043752"
   },
   "outputs": [
    {
     "data": {
      "image/png": "[encoded data removed]",
      "text/plain": [
       "<Figure size 640x480 with 1 Axes>"
      ]
     },
     "metadata": {},
     "output_type": "display_data"
    }
   ],
   "source": [
    "import matplotlib.pyplot as plt\n",
    "\n",
    "def plot_logits(logits):\n",
    "    labels = ['Human-written', 'AI-generated', 'Paraphrased']\n",
    "    logits = logits.squeeze().cpu().numpy()\n",
    "    plt.bar(labels, logits)\n",
    "    plt.title('Logit Distribution for Each Class')\n",
    "    plt.xlabel('Classes')\n",
    "    plt.ylabel('Logit Value')\n",
    "    plt.show()\n",
    "\n",
    "\n",
    "# Example to visualize logits for a single prediction\n",
    "logits = torch.tensor([[-5.8984,  3.5749,  1.9181]])  # Example logits\n",
    "plot_logits(logits)\n"
   ]
  },
  {
   "cell_type": "code",
   "execution_count": null,
   "id": "lf54C3TwCKdH",
   "metadata": {
    "colab": {
     "base_uri": "https://localhost:8080/"
    },
    "id": "lf54C3TwCKdH",
    "outputId": "b9dbe342-fbca-4023-89a3-05f57bafcacc"
   },
   "outputs": [
    {
     "name": "stdout",
     "output_type": "stream",
     "text": [
      "Logits: tensor([[-5.9018,  3.0470,  2.4156]])\n",
      "Prompt: Is this text written by a human, generated by AI, or paraphrased from an existing source? Please identify any markers or patterns that support your answer.\n",
      "Logits: tensor([[-5.9018,  3.0470,  2.4156]])\n",
      "Prediction: AI-generated\n",
      "\n",
      "\n",
      "Logits: tensor([[-5.8106,  3.8065,  1.6276]])\n",
      "Prompt: What linguistic, stylistic, or structural features in this text suggest it is human-written, AI-generated, or paraphrased? Highlight specific elements like tone, coherence, or originality.\n",
      "Logits: tensor([[-5.8106,  3.8065,  1.6276]])\n",
      "Prediction: AI-generated\n",
      "\n",
      "\n",
      "Logits: tensor([[-5.8953,  2.9185,  2.5079]])\n",
      "Prompt: Does this text exhibit common features of human authorship, AI generation (like GPT), or paraphrasing from another work? Consider factors like vocabulary, sentence complexity, and context repetition.\n",
      "Logits: tensor([[-5.8953,  2.9185,  2.5079]])\n",
      "Prediction: AI-generated\n",
      "\n",
      "\n",
      "Logits: tensor([[-5.8984,  3.5749,  1.9181]])\n",
      "Prompt: What are the primary distinctions between human-written, AI-generated, and paraphrased texts? Analyze aspects such as creativity, consistency, structure, and originality. How do these features influence the classification?\n",
      "Logits: tensor([[-5.8984,  3.5749,  1.9181]])\n",
      "Prediction: AI-generated\n",
      "\n",
      "\n"
     ]
    }
   ],
   "source": [
    "def get_prediction_with_threshold(logits, threshold=0.5):\n",
    "    # Softmax to convert logits to probabilities\n",
    "    probs = torch.softmax(logits, dim=-1)\n",
    "    max_prob, predicted_class = torch.max(probs, dim=-1)\n",
    "\n",
    "    # Apply thresholding: if the highest probability is below a threshold, mark as \"uncertain\" (paraphrased)\n",
    "    if max_prob < threshold:\n",
    "        return 2  # Paraphrased (uncertain prediction)\n",
    "    return predicted_class.item()\n",
    "\n",
    "# Test with logits\n",
    "for prompt in prompts:\n",
    "    result, logits = get_prediction_with_logits(prompt, text)\n",
    "    prediction_label = 'AI-generated' if result == 1 else 'Human-written' if result == 0 else 'Paraphrased'\n",
    "    print(f\"Prompt: {prompt}\")\n",
    "    print(f\"Logits: {logits}\")\n",
    "    print(f\"Prediction: {prediction_label}\")\n",
    "    print(\"\\n\")\n"
   ]
  },
  {
   "cell_type": "code",
   "execution_count": null,
   "id": "VbNJO1vJCRbW",
   "metadata": {
    "colab": {
     "base_uri": "https://localhost:8080/"
    },
    "id": "VbNJO1vJCRbW",
    "outputId": "e4d0c69b-9a5f-4c74-d2fe-c8bdb39d1b6b"
   },
   "outputs": [
    {
     "name": "stdout",
     "output_type": "stream",
     "text": [
      "Prediction: Human-written\n",
      "Reasoning: \n"
     ]
    }
   ],
   "source": [
    "from transformers import RobertaForSequenceClassification, RobertaTokenizer\n",
    "import torch\n",
    "\n",
    "# Example Few-Shot Chain-of-Thought (CoT) Prompt\n",
    "few_shot_examples = \"\"\"\n",
    "Example 1:\n",
    "Text: \"I went to the store to buy some groceries.\"\n",
    "Reasoning: This text is human-written because it contains natural conversational flow and personal context.\n",
    "\n",
    "Example 2:\n",
    "Text: \"The process of purchasing food items from a store is commonly referred to as shopping.\"\n",
    "Reasoning: This text is AI-generated because it is overly formal and lacks personal experience or a conversational tone.\n",
    "\n",
    "Example 3:\n",
    "Text: \"I am working on a project to improve machine learning techniques.\"\n",
    "Reasoning: This text is human-written because it reflects a personal, direct expression of intention and action.\n",
    "\n",
    "Now, classify the following text and provide reasoning:\n",
    "\n",
    "Text: \"I love cat \"\n",
    "Reasoning:\n",
    "\"\"\"\n",
    "\n",
    "# Tokenize the input (few-shot example + new input for classification)\n",
    "input_text = few_shot_examples + \"Text: 'The cat sat on the mat.' Reasoning: \"\n",
    "inputs = tokenizer(input_text, return_tensors=\"pt\", padding=True, truncation=True, max_length=512)\n",
    "\n",
    "# Perform inference\n",
    "with torch.no_grad():\n",
    "    outputs = model(**inputs)\n",
    "    logits = outputs.logits\n",
    "    predicted_class = torch.argmax(logits, dim=-1).item()  # Get the predicted class (0 for human, 1 for AI)\n",
    "\n",
    "# Display the result and reasoning\n",
    "reasoning_output = input_text.split(\"Reasoning:\")[-1].strip()  # Extract the reasoning part after the last \"Reasoning:\"\n",
    "prediction = \"AI-generated\" if predicted_class == 1 else \"Human-written\"\n",
    "\n",
    "print(f\"Prediction: {prediction}\")\n",
    "print(f\"Reasoning: {reasoning_output}\")\n"
   ]
  },
  {
   "cell_type": "code",
   "execution_count": null,
   "id": "lswQp-WpJwpO",
   "metadata": {
    "id": "lswQp-WpJwpO"
   },
   "outputs": [],
   "source": []
  }
 ],
 "metadata": {
  "accelerator": "GPU",
  "colab": {
   "gpuType": "T4",
   "provenance": []
  },
  "kernelspec": {
   "display_name": "Python 3 (ipykernel)",
   "language": "python",
   "name": "python3"
  },
  "language_info": {
   "codemirror_mode": {
    "name": "ipython",
    "version": 3
   },
   "file_extension": ".py",
   "mimetype": "text/x-python",
   "name": "python",
   "nbconvert_exporter": "python",
   "pygments_lexer": "ipython3",
   "version": "3.12.3"
  }
 },
 "nbformat": 4,
 "nbformat_minor": 5
}
