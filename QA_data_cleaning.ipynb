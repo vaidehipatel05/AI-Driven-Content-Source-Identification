{
 "cells": [
  {
   "cell_type": "code",
   "execution_count": 1,
   "id": "0655b2ce-e19f-43e3-82ac-13cc13cf4c70",
   "metadata": {},
   "outputs": [
    {
     "name": "stdout",
     "output_type": "stream",
     "text": [
      "                                                 answer  label\n",
      "0     Marginal probability is theprobabilityof a sin...      0\n",
      "1     The fundamental rules that control the behavio...      0\n",
      "2     Conditional probability refers to the probabil...      1\n",
      "3     The Bayes theorem predicts the probability tha...      1\n",
      "4     A statistical concept known as variance quanti...      1\n",
      "...                                                 ...    ...\n",
      "2670  In SQL Server thedata dictionaryis a set of da...      0\n",
      "2671  DISTINCT is useful in certain circumstances, b...      0\n",
      "2672  These functions work with any data type and pe...      0\n",
      "2673  COALESCE():COALESCE function in SQL returns th...      0\n",
      "2674  In SQL for appending two strings, the ” Concen...      0\n",
      "\n",
      "[2675 rows x 2 columns]\n",
      "                                               answer  label\n",
      "0   Marginal probability is theprobabilityof a sin...      0\n",
      "1   The fundamental rules that control the behavio...      0\n",
      "2   Conditional probability refers to the probabil...      1\n",
      "3   The Bayes theorem predicts the probability tha...      1\n",
      "4   A statistical concept known as variance quanti...      1\n",
      "5   Mean:The mean, often referred to as the averag...      1\n",
      "6   The normal distribution, also known as the Gau...      1\n",
      "7   SQLstands for Structured Query Language.It is ...      0\n",
      "8   BothSQL(Structured Query Language) andNoSQL(No...      0\n",
      "9   Relational database systems, both open source ...      1\n",
      "10  The structure and relationships between the da...      1\n",
      "11  The process of transforming data from one stru...      0\n",
      "12  A relational database’s data can be retrieved,...      1\n",
      "13  A relational database table’s main key, also k...      1\n",
      "14  In SQL, the GROUP BY clause is used to create ...      0\n",
      "15  In SQL, the WHERE clause is used to filter row...      0\n",
      "16  Using the DISTINCT keyword in combination with...      0\n",
      "17  To filter query results depending on the outpu...      0\n",
      "18  Missing or NULL values can arise due to variou...      0\n",
      "19  The difference between Supervised Learning and...      1\n"
     ]
    }
   ],
   "source": [
    "import pandas as pd\n",
    "import re\n",
    "\n",
    "# Load the CSV file\n",
    "df = pd.read_csv(\"QAmerged.csv\")\n",
    "import pandas as pd\n",
    "#pd.set_option('display.max_colwidth', None)\n",
    "\n",
    "df['label'] = df['label'].fillna(0)\n",
    "\n",
    "# Convert the 'label' column to integers (0 and 1)\n",
    "df['label'] = df['label'].astype(int)\n",
    "\n",
    "# Display the updated DataFrame\n",
    "print(df)\n",
    "\n",
    "df.to_csv(\"QAmerged1.csv\")\n",
    "\n",
    "print(df.head(20))"
   ]
  },
  {
   "cell_type": "code",
   "execution_count": 3,
   "id": "dcce8f51-a2ae-4401-87d4-e60fc904ca0b",
   "metadata": {},
   "outputs": [
    {
     "name": "stderr",
     "output_type": "stream",
     "text": [
      "/var/folders/t8/5qy83krd04n96dc5kqzjmrch0000gn/T/ipykernel_91862/3232651935.py:5: FutureWarning: DataFrame.applymap has been deprecated. Use DataFrame.map instead.\n",
      "  df = df.applymap(lambda x: x.strip() if isinstance(x, str) else x)\n"
     ]
    }
   ],
   "source": [
    "import pandas as pd\n",
    "import re\n",
    "\n",
    "# Remove leading and trailing whitespace\n",
    "df = df.applymap(lambda x: x.strip() if isinstance(x, str) else x)\n",
    "\n",
    "# Normalize internal whitespace\n",
    "df['answer'] = df['answer'].apply(lambda x: re.sub(r'\\s+', ' ', x) if isinstance(x, str) else x)\n",
    "\n",
    "# Escape special characters\n",
    "df['answer'] = df['answer'].apply(lambda x: x.replace('\\n', ' ').replace('\\r', ' ').replace('\\\\', ' ') if isinstance(x, str) else x)\n",
    "\n",
    "# Save the cleaned data\n",
    "#df.to_csv(\"cleaned_file.csv\", index=False)\n"
   ]
  },
  {
   "cell_type": "code",
   "execution_count": 4,
   "id": "b0399c24-8c42-42c9-b579-e805e21af5d6",
   "metadata": {},
   "outputs": [],
   "source": [
    "import pandas as pd\n",
    "\n",
    "# Define a list of error messages or keywords to filter out\n",
    "error_messages = [\n",
    "    \"too many requests in 1 hour\",\n",
    "    \"try again later\",\n",
    "    \"there was an error generating a response\"\n",
    "]\n",
    "\n",
    "# Filter out rows that contain any of these messages in the 'text' column\n",
    "# We use a regular expression (regex) to match any of the error patterns\n",
    "pattern = '|'.join(error_messages)\n",
    "df = df[~df['answer'].str.contains(pattern, case=False, na=False)]"
   ]
  },
  {
   "cell_type": "code",
   "execution_count": 5,
   "id": "ff62c77e-3f3a-4178-81cd-872fe4d5971d",
   "metadata": {},
   "outputs": [
    {
     "data": {
      "text/html": [
       "<div>\n",
       "<style scoped>\n",
       "    .dataframe tbody tr th:only-of-type {\n",
       "        vertical-align: middle;\n",
       "    }\n",
       "\n",
       "    .dataframe tbody tr th {\n",
       "        vertical-align: top;\n",
       "    }\n",
       "\n",
       "    .dataframe thead th {\n",
       "        text-align: right;\n",
       "    }\n",
       "</style>\n",
       "<table border=\"1\" class=\"dataframe\">\n",
       "  <thead>\n",
       "    <tr style=\"text-align: right;\">\n",
       "      <th></th>\n",
       "      <th>answer</th>\n",
       "      <th>label</th>\n",
       "    </tr>\n",
       "  </thead>\n",
       "  <tbody>\n",
       "    <tr>\n",
       "      <th>0</th>\n",
       "      <td>Marginal probability is theprobabilityof a sin...</td>\n",
       "      <td>0</td>\n",
       "    </tr>\n",
       "    <tr>\n",
       "      <th>1</th>\n",
       "      <td>The fundamental rules that control the behavio...</td>\n",
       "      <td>0</td>\n",
       "    </tr>\n",
       "    <tr>\n",
       "      <th>2</th>\n",
       "      <td>Conditional probability refers to the probabil...</td>\n",
       "      <td>1</td>\n",
       "    </tr>\n",
       "    <tr>\n",
       "      <th>3</th>\n",
       "      <td>The Bayes theorem predicts the probability tha...</td>\n",
       "      <td>1</td>\n",
       "    </tr>\n",
       "    <tr>\n",
       "      <th>4</th>\n",
       "      <td>A statistical concept known as variance quanti...</td>\n",
       "      <td>1</td>\n",
       "    </tr>\n",
       "    <tr>\n",
       "      <th>5</th>\n",
       "      <td>Mean:The mean, often referred to as the averag...</td>\n",
       "      <td>1</td>\n",
       "    </tr>\n",
       "    <tr>\n",
       "      <th>6</th>\n",
       "      <td>The normal distribution, also known as the Gau...</td>\n",
       "      <td>1</td>\n",
       "    </tr>\n",
       "    <tr>\n",
       "      <th>7</th>\n",
       "      <td>SQLstands for Structured Query Language.It is ...</td>\n",
       "      <td>0</td>\n",
       "    </tr>\n",
       "    <tr>\n",
       "      <th>8</th>\n",
       "      <td>BothSQL(Structured Query Language) andNoSQL(No...</td>\n",
       "      <td>0</td>\n",
       "    </tr>\n",
       "    <tr>\n",
       "      <th>9</th>\n",
       "      <td>Relational database systems, both open source ...</td>\n",
       "      <td>1</td>\n",
       "    </tr>\n",
       "    <tr>\n",
       "      <th>10</th>\n",
       "      <td>The structure and relationships between the da...</td>\n",
       "      <td>1</td>\n",
       "    </tr>\n",
       "    <tr>\n",
       "      <th>11</th>\n",
       "      <td>The process of transforming data from one stru...</td>\n",
       "      <td>0</td>\n",
       "    </tr>\n",
       "    <tr>\n",
       "      <th>12</th>\n",
       "      <td>A relational database’s data can be retrieved,...</td>\n",
       "      <td>1</td>\n",
       "    </tr>\n",
       "    <tr>\n",
       "      <th>13</th>\n",
       "      <td>A relational database table’s main key, also k...</td>\n",
       "      <td>1</td>\n",
       "    </tr>\n",
       "    <tr>\n",
       "      <th>14</th>\n",
       "      <td>In SQL, the GROUP BY clause is used to create ...</td>\n",
       "      <td>0</td>\n",
       "    </tr>\n",
       "    <tr>\n",
       "      <th>15</th>\n",
       "      <td>In SQL, the WHERE clause is used to filter row...</td>\n",
       "      <td>0</td>\n",
       "    </tr>\n",
       "    <tr>\n",
       "      <th>16</th>\n",
       "      <td>Using the DISTINCT keyword in combination with...</td>\n",
       "      <td>0</td>\n",
       "    </tr>\n",
       "    <tr>\n",
       "      <th>17</th>\n",
       "      <td>To filter query results depending on the outpu...</td>\n",
       "      <td>0</td>\n",
       "    </tr>\n",
       "    <tr>\n",
       "      <th>18</th>\n",
       "      <td>Missing or NULL values can arise due to variou...</td>\n",
       "      <td>0</td>\n",
       "    </tr>\n",
       "    <tr>\n",
       "      <th>19</th>\n",
       "      <td>The difference between Supervised Learning and...</td>\n",
       "      <td>1</td>\n",
       "    </tr>\n",
       "  </tbody>\n",
       "</table>\n",
       "</div>"
      ],
      "text/plain": [
       "                                               answer  label\n",
       "0   Marginal probability is theprobabilityof a sin...      0\n",
       "1   The fundamental rules that control the behavio...      0\n",
       "2   Conditional probability refers to the probabil...      1\n",
       "3   The Bayes theorem predicts the probability tha...      1\n",
       "4   A statistical concept known as variance quanti...      1\n",
       "5   Mean:The mean, often referred to as the averag...      1\n",
       "6   The normal distribution, also known as the Gau...      1\n",
       "7   SQLstands for Structured Query Language.It is ...      0\n",
       "8   BothSQL(Structured Query Language) andNoSQL(No...      0\n",
       "9   Relational database systems, both open source ...      1\n",
       "10  The structure and relationships between the da...      1\n",
       "11  The process of transforming data from one stru...      0\n",
       "12  A relational database’s data can be retrieved,...      1\n",
       "13  A relational database table’s main key, also k...      1\n",
       "14  In SQL, the GROUP BY clause is used to create ...      0\n",
       "15  In SQL, the WHERE clause is used to filter row...      0\n",
       "16  Using the DISTINCT keyword in combination with...      0\n",
       "17  To filter query results depending on the outpu...      0\n",
       "18  Missing or NULL values can arise due to variou...      0\n",
       "19  The difference between Supervised Learning and...      1"
      ]
     },
     "execution_count": 5,
     "metadata": {},
     "output_type": "execute_result"
    }
   ],
   "source": [
    "df.head(20)"
   ]
  },
  {
   "cell_type": "code",
   "execution_count": 12,
   "id": "b451eb4a-9b06-4b3c-b4fd-8f10813a8f2c",
   "metadata": {},
   "outputs": [
    {
     "name": "stdout",
     "output_type": "stream",
     "text": [
      "Minimum answer length: 19\n",
      "Maximum answer length: 5400\n"
     ]
    }
   ],
   "source": [
    "df['answer'] = df['answer'].fillna(\"\").astype(str)\n",
    "df = df[df['answer'].str.strip() != \"\"]\n",
    "\n",
    "# Compute the lengths of each answer\n",
    "df['answer_length'] = df['answer'].apply(len)\n",
    "\n",
    "# Find the minimum and maximum length\n",
    "min_length = df['answer_length'].min()\n",
    "max_length = df['answer_length'].max()\n",
    "\n",
    "print(f\"Minimum answer length: {min_length}\")\n",
    "print(f\"Maximum answer length: {max_length}\")"
   ]
  },
  {
   "cell_type": "code",
   "execution_count": 13,
   "id": "7d2e3ee3-574e-482d-9d98-6738d66f68c0",
   "metadata": {},
   "outputs": [
    {
     "data": {
      "text/plain": [
       "<Axes: ylabel='Frequency'>"
      ]
     },
     "execution_count": 13,
     "metadata": {},
     "output_type": "execute_result"
    },
    {
     "data": {
      "image/png": "[encoded data removed]",
      "text/plain": [
       "<Figure size 640x480 with 1 Axes>"
      ]
     },
     "metadata": {},
     "output_type": "display_data"
    }
   ],
   "source": [
    "df['text_length'].plot(kind='hist', bins=30)"
   ]
  },
  {
   "cell_type": "code",
   "execution_count": 14,
   "id": "aa1cf0b3-bdf4-49d4-92d4-9f7f7c867396",
   "metadata": {},
   "outputs": [
    {
     "name": "stdout",
     "output_type": "stream",
     "text": [
      "Average answer length: 556.32\n"
     ]
    }
   ],
   "source": [
    "average_length = df['answer_length'].mean()\n",
    "print(f\"Average answer length: {average_length:.2f}\")"
   ]
  },
  {
   "cell_type": "code",
   "execution_count": 15,
   "id": "b079a384-2289-428f-a565-85373996055e",
   "metadata": {},
   "outputs": [
    {
     "name": "stdout",
     "output_type": "stream",
     "text": [
      "0    402\n",
      "Name: text_length, dtype: int64\n"
     ]
    }
   ],
   "source": [
    "mode_value = df['text_length'].mode()\n",
    "print(mode_value)"
   ]
  },
  {
   "cell_type": "markdown",
   "id": "cab4a018-fc8c-432a-af1d-70d9de2a39e9",
   "metadata": {},
   "source": [
    "Most samples have shorter lengths.\n",
    "\n",
    " There’s a small number of samples with a very high length, as shown by the long tail extending far to the right. "
   ]
  },
  {
   "cell_type": "code",
   "execution_count": null,
   "id": "2507f8d2-df20-4920-854e-b9c91e271b17",
   "metadata": {},
   "outputs": [],
   "source": []
  }
 ],
 "metadata": {
  "kernelspec": {
   "display_name": "Python 3 (ipykernel)",
   "language": "python",
   "name": "python3"
  },
  "language_info": {
   "codemirror_mode": {
    "name": "ipython",
    "version": 3
   },
   "file_extension": ".py",
   "mimetype": "text/x-python",
   "name": "python",
   "nbconvert_exporter": "python",
   "pygments_lexer": "ipython3",
   "version": "3.12.3"
  }
 },
 "nbformat": 4,
 "nbformat_minor": 5
}
