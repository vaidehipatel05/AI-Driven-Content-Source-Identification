{
 "cells": [
  {
   "cell_type": "code",
   "execution_count": 1,
   "id": "4b079cb5-2a89-4714-820c-f31f9a20559a",
   "metadata": {},
   "outputs": [
    {
     "name": "stdout",
     "output_type": "stream",
     "text": [
      "label\n",
      "1    15395\n",
      "2    15395\n",
      "0    15391\n",
      "Name: count, dtype: int64\n"
     ]
    }
   ],
   "source": [
    "import pandas as pd\n",
    "import re\n",
    "\n",
    "df_human = pd.read_csv(\"/Users/vaidehipatel/Documents/Documents/Course Sem 3/Deep learning/project/dataset/human.csv\")\n",
    "df_ai = pd.read_csv(\"/Users/vaidehipatel/Documents/Documents/Course Sem 3/Deep learning/project/dataset/ai.csv\")\n",
    "df_paraphrased = pd.read_csv(\"/Users/vaidehipatel/Documents/Documents/Course Sem 3/Deep learning/project/dataset/paraphrased.csv\")\n",
    "\n",
    "df_human['label'] = 0\n",
    "df_ai['label'] = 1\n",
    "df_paraphrased['label'] = 2\n",
    "\n",
    "df_human = df_human[['abstract', 'label']]\n",
    "df_ai = df_ai[['abstract', 'label']]\n",
    "df_paraphrased = df_paraphrased[['abstract', 'label']]\n",
    "\n",
    "df = pd.concat([df_human, df_ai, df_paraphrased], ignore_index=True)\n",
    "df = df.sample(frac=1, random_state=42).reset_index(drop=True)\n",
    "\n",
    "print(df['label'].value_counts())"
   ]
  },
  {
   "cell_type": "code",
   "execution_count": 2,
   "id": "0e6688ec-582f-4030-8882-1cf65f147baf",
   "metadata": {},
   "outputs": [],
   "source": [
    "df['abstract'] = df['abstract'].str.lower()"
   ]
  },
  {
   "cell_type": "code",
   "execution_count": 27,
   "id": "821d922d-d695-426a-b307-31100c69d0a5",
   "metadata": {},
   "outputs": [
    {
     "data": {
      "text/plain": [
       "abstract    46181\n",
       "label       46181\n",
       "dtype: int64"
      ]
     },
     "execution_count": 27,
     "metadata": {},
     "output_type": "execute_result"
    }
   ],
   "source": [
    "df.count()"
   ]
  },
  {
   "cell_type": "code",
   "execution_count": 3,
   "id": "c8728425-4cf8-4624-8314-564a2d066337",
   "metadata": {},
   "outputs": [
    {
     "data": {
      "text/html": [
       "<div>\n",
       "<style scoped>\n",
       "    .dataframe tbody tr th:only-of-type {\n",
       "        vertical-align: middle;\n",
       "    }\n",
       "\n",
       "    .dataframe tbody tr th {\n",
       "        vertical-align: top;\n",
       "    }\n",
       "\n",
       "    .dataframe thead th {\n",
       "        text-align: right;\n",
       "    }\n",
       "</style>\n",
       "<table border=\"1\" class=\"dataframe\">\n",
       "  <thead>\n",
       "    <tr style=\"text-align: right;\">\n",
       "      <th></th>\n",
       "      <th>abstract</th>\n",
       "      <th>label</th>\n",
       "    </tr>\n",
       "  </thead>\n",
       "  <tbody>\n",
       "    <tr>\n",
       "      <th>0</th>\n",
       "      <td>continuous monitoring of crop is an essential ...</td>\n",
       "      <td>0</td>\n",
       "    </tr>\n",
       "    <tr>\n",
       "      <th>1</th>\n",
       "      <td>the aim of this paper is to propose a distribu...</td>\n",
       "      <td>1</td>\n",
       "    </tr>\n",
       "    <tr>\n",
       "      <th>2</th>\n",
       "      <td>the use of braincomputer interface bci technol...</td>\n",
       "      <td>1</td>\n",
       "    </tr>\n",
       "    <tr>\n",
       "      <th>3</th>\n",
       "      <td>cardiac mri segmentation is an essential task ...</td>\n",
       "      <td>1</td>\n",
       "    </tr>\n",
       "    <tr>\n",
       "      <th>4</th>\n",
       "      <td>this paper proposes a dynamic prediction appro...</td>\n",
       "      <td>1</td>\n",
       "    </tr>\n",
       "    <tr>\n",
       "      <th>5</th>\n",
       "      <td>this paper addresses the challenge of testing ...</td>\n",
       "      <td>2</td>\n",
       "    </tr>\n",
       "    <tr>\n",
       "      <th>6</th>\n",
       "      <td>mptcp multipath transmission control protocol ...</td>\n",
       "      <td>1</td>\n",
       "    </tr>\n",
       "    <tr>\n",
       "      <th>7</th>\n",
       "      <td>this paper presents a lowenergy rate 12 succes...</td>\n",
       "      <td>2</td>\n",
       "    </tr>\n",
       "    <tr>\n",
       "      <th>8</th>\n",
       "      <td>this paper presents a novel approach that util...</td>\n",
       "      <td>2</td>\n",
       "    </tr>\n",
       "    <tr>\n",
       "      <th>9</th>\n",
       "      <td>documentlevel sentiment analysis aims to predi...</td>\n",
       "      <td>2</td>\n",
       "    </tr>\n",
       "    <tr>\n",
       "      <th>10</th>\n",
       "      <td>in modern communication networks the terms dat...</td>\n",
       "      <td>2</td>\n",
       "    </tr>\n",
       "    <tr>\n",
       "      <th>11</th>\n",
       "      <td>most of the existing graphbased semisupervised...</td>\n",
       "      <td>2</td>\n",
       "    </tr>\n",
       "    <tr>\n",
       "      <th>12</th>\n",
       "      <td>we demonstrate a brillouinerbium fiber laser b...</td>\n",
       "      <td>0</td>\n",
       "    </tr>\n",
       "    <tr>\n",
       "      <th>13</th>\n",
       "      <td>arabic language is spoken widely in the world ...</td>\n",
       "      <td>0</td>\n",
       "    </tr>\n",
       "    <tr>\n",
       "      <th>14</th>\n",
       "      <td>this paper presents a design for an intelligen...</td>\n",
       "      <td>2</td>\n",
       "    </tr>\n",
       "    <tr>\n",
       "      <th>15</th>\n",
       "      <td>electrocardiogram ecg signal represents the el...</td>\n",
       "      <td>0</td>\n",
       "    </tr>\n",
       "    <tr>\n",
       "      <th>16</th>\n",
       "      <td>in this paper a modern home control electronic...</td>\n",
       "      <td>0</td>\n",
       "    </tr>\n",
       "    <tr>\n",
       "      <th>17</th>\n",
       "      <td>some hearingimpaired people face a communicati...</td>\n",
       "      <td>0</td>\n",
       "    </tr>\n",
       "    <tr>\n",
       "      <th>18</th>\n",
       "      <td>this paper presents a simulator for manufactur...</td>\n",
       "      <td>1</td>\n",
       "    </tr>\n",
       "    <tr>\n",
       "      <th>19</th>\n",
       "      <td>large files cannot be efficiently stored on bl...</td>\n",
       "      <td>2</td>\n",
       "    </tr>\n",
       "  </tbody>\n",
       "</table>\n",
       "</div>"
      ],
      "text/plain": [
       "                                             abstract  label\n",
       "0   continuous monitoring of crop is an essential ...      0\n",
       "1   the aim of this paper is to propose a distribu...      1\n",
       "2   the use of braincomputer interface bci technol...      1\n",
       "3   cardiac mri segmentation is an essential task ...      1\n",
       "4   this paper proposes a dynamic prediction appro...      1\n",
       "5   this paper addresses the challenge of testing ...      2\n",
       "6   mptcp multipath transmission control protocol ...      1\n",
       "7   this paper presents a lowenergy rate 12 succes...      2\n",
       "8   this paper presents a novel approach that util...      2\n",
       "9   documentlevel sentiment analysis aims to predi...      2\n",
       "10  in modern communication networks the terms dat...      2\n",
       "11  most of the existing graphbased semisupervised...      2\n",
       "12  we demonstrate a brillouinerbium fiber laser b...      0\n",
       "13  arabic language is spoken widely in the world ...      0\n",
       "14  this paper presents a design for an intelligen...      2\n",
       "15  electrocardiogram ecg signal represents the el...      0\n",
       "16  in this paper a modern home control electronic...      0\n",
       "17  some hearingimpaired people face a communicati...      0\n",
       "18  this paper presents a simulator for manufactur...      1\n",
       "19  large files cannot be efficiently stored on bl...      2"
      ]
     },
     "execution_count": 3,
     "metadata": {},
     "output_type": "execute_result"
    }
   ],
   "source": [
    "df.head(20)"
   ]
  },
  {
   "cell_type": "code",
   "execution_count": 29,
   "id": "bd386a91-a6d3-4d44-aff9-514c3f72210d",
   "metadata": {},
   "outputs": [],
   "source": [
    "df.to_csv(\"final_merge_good.csv\")"
   ]
  },
  {
   "cell_type": "code",
   "execution_count": 3,
   "id": "0f89dc6a-cd5a-4870-a5a0-77a9c55b4364",
   "metadata": {},
   "outputs": [
    {
     "data": {
      "text/html": [
       "<div>\n",
       "<style scoped>\n",
       "    .dataframe tbody tr th:only-of-type {\n",
       "        vertical-align: middle;\n",
       "    }\n",
       "\n",
       "    .dataframe tbody tr th {\n",
       "        vertical-align: top;\n",
       "    }\n",
       "\n",
       "    .dataframe thead th {\n",
       "        text-align: right;\n",
       "    }\n",
       "</style>\n",
       "<table border=\"1\" class=\"dataframe\">\n",
       "  <thead>\n",
       "    <tr style=\"text-align: right;\">\n",
       "      <th></th>\n",
       "      <th>abstract</th>\n",
       "      <th>label</th>\n",
       "    </tr>\n",
       "  </thead>\n",
       "  <tbody>\n",
       "    <tr>\n",
       "      <th>0</th>\n",
       "      <td>To solve the problems of the data reliability ...</td>\n",
       "      <td>0</td>\n",
       "    </tr>\n",
       "    <tr>\n",
       "      <th>1</th>\n",
       "      <td>To solve the simultaneous localization and map...</td>\n",
       "      <td>0</td>\n",
       "    </tr>\n",
       "    <tr>\n",
       "      <th>2</th>\n",
       "      <td>In the future scenario of multiple wireless ne...</td>\n",
       "      <td>0</td>\n",
       "    </tr>\n",
       "    <tr>\n",
       "      <th>3</th>\n",
       "      <td>Passive sound source localization SSL using ti...</td>\n",
       "      <td>0</td>\n",
       "    </tr>\n",
       "    <tr>\n",
       "      <th>4</th>\n",
       "      <td>We consider a two user Gaussian multiple acces...</td>\n",
       "      <td>0</td>\n",
       "    </tr>\n",
       "  </tbody>\n",
       "</table>\n",
       "</div>"
      ],
      "text/plain": [
       "                                            abstract  label\n",
       "0  To solve the problems of the data reliability ...      0\n",
       "1  To solve the simultaneous localization and map...      0\n",
       "2  In the future scenario of multiple wireless ne...      0\n",
       "3  Passive sound source localization SSL using ti...      0\n",
       "4  We consider a two user Gaussian multiple acces...      0"
      ]
     },
     "execution_count": 3,
     "metadata": {},
     "output_type": "execute_result"
    }
   ],
   "source": [
    "df_human.head()"
   ]
  },
  {
   "cell_type": "code",
   "execution_count": 4,
   "id": "1f27a8a1-fa0a-4bc9-a50a-fdb397df9c0d",
   "metadata": {},
   "outputs": [
    {
     "data": {
      "text/html": [
       "<div>\n",
       "<style scoped>\n",
       "    .dataframe tbody tr th:only-of-type {\n",
       "        vertical-align: middle;\n",
       "    }\n",
       "\n",
       "    .dataframe tbody tr th {\n",
       "        vertical-align: top;\n",
       "    }\n",
       "\n",
       "    .dataframe thead th {\n",
       "        text-align: right;\n",
       "    }\n",
       "</style>\n",
       "<table border=\"1\" class=\"dataframe\">\n",
       "  <thead>\n",
       "    <tr style=\"text-align: right;\">\n",
       "      <th></th>\n",
       "      <th>abstract</th>\n",
       "      <th>label</th>\n",
       "    </tr>\n",
       "  </thead>\n",
       "  <tbody>\n",
       "    <tr>\n",
       "      <th>0</th>\n",
       "      <td>The reliability of flash memories is highly de...</td>\n",
       "      <td>1</td>\n",
       "    </tr>\n",
       "    <tr>\n",
       "      <th>1</th>\n",
       "      <td>This paper proposes an improved particle filte...</td>\n",
       "      <td>1</td>\n",
       "    </tr>\n",
       "    <tr>\n",
       "      <th>2</th>\n",
       "      <td>This paper proposes a novel algorithm for vert...</td>\n",
       "      <td>1</td>\n",
       "    </tr>\n",
       "    <tr>\n",
       "      <th>3</th>\n",
       "      <td>This paper proposes a robust offline trained n...</td>\n",
       "      <td>1</td>\n",
       "    </tr>\n",
       "    <tr>\n",
       "      <th>4</th>\n",
       "      <td>This paper proposes a method for encoding and ...</td>\n",
       "      <td>1</td>\n",
       "    </tr>\n",
       "  </tbody>\n",
       "</table>\n",
       "</div>"
      ],
      "text/plain": [
       "                                            abstract  label\n",
       "0  The reliability of flash memories is highly de...      1\n",
       "1  This paper proposes an improved particle filte...      1\n",
       "2  This paper proposes a novel algorithm for vert...      1\n",
       "3  This paper proposes a robust offline trained n...      1\n",
       "4  This paper proposes a method for encoding and ...      1"
      ]
     },
     "execution_count": 4,
     "metadata": {},
     "output_type": "execute_result"
    }
   ],
   "source": [
    "df_ai.head()"
   ]
  },
  {
   "cell_type": "code",
   "execution_count": 5,
   "id": "ec5b0a56-fbab-4b89-9e2c-a5ac494cb83f",
   "metadata": {},
   "outputs": [
    {
     "data": {
      "text/html": [
       "<div>\n",
       "<style scoped>\n",
       "    .dataframe tbody tr th:only-of-type {\n",
       "        vertical-align: middle;\n",
       "    }\n",
       "\n",
       "    .dataframe tbody tr th {\n",
       "        vertical-align: top;\n",
       "    }\n",
       "\n",
       "    .dataframe thead th {\n",
       "        text-align: right;\n",
       "    }\n",
       "</style>\n",
       "<table border=\"1\" class=\"dataframe\">\n",
       "  <thead>\n",
       "    <tr style=\"text-align: right;\">\n",
       "      <th></th>\n",
       "      <th>abstract</th>\n",
       "      <th>label</th>\n",
       "    </tr>\n",
       "  </thead>\n",
       "  <tbody>\n",
       "    <tr>\n",
       "      <th>0</th>\n",
       "      <td>To address the challenges of data reliability ...</td>\n",
       "      <td>2</td>\n",
       "    </tr>\n",
       "    <tr>\n",
       "      <th>1</th>\n",
       "      <td>Many techniques have been proposed to solve th...</td>\n",
       "      <td>2</td>\n",
       "    </tr>\n",
       "    <tr>\n",
       "      <th>2</th>\n",
       "      <td>In a future scenario with multiple wireless ne...</td>\n",
       "      <td>2</td>\n",
       "    </tr>\n",
       "    <tr>\n",
       "      <th>3</th>\n",
       "      <td>Passive sound source localization using timedi...</td>\n",
       "      <td>2</td>\n",
       "    </tr>\n",
       "    <tr>\n",
       "      <th>4</th>\n",
       "      <td>We are considering a two user Gaussian multipl...</td>\n",
       "      <td>2</td>\n",
       "    </tr>\n",
       "  </tbody>\n",
       "</table>\n",
       "</div>"
      ],
      "text/plain": [
       "                                            abstract  label\n",
       "0  To address the challenges of data reliability ...      2\n",
       "1  Many techniques have been proposed to solve th...      2\n",
       "2  In a future scenario with multiple wireless ne...      2\n",
       "3  Passive sound source localization using timedi...      2\n",
       "4  We are considering a two user Gaussian multipl...      2"
      ]
     },
     "execution_count": 5,
     "metadata": {},
     "output_type": "execute_result"
    }
   ],
   "source": [
    "df_paraphrased.head()"
   ]
  },
  {
   "cell_type": "code",
   "execution_count": 11,
   "id": "019f7542-5eec-48fd-9f66-52cdbda6c0a0",
   "metadata": {},
   "outputs": [],
   "source": [
    "#pd.set_option('display.max_colwidth', None)"
   ]
  },
  {
   "cell_type": "code",
   "execution_count": 13,
   "id": "1b9cbb84-8fe6-419b-b363-32815d1aca5c",
   "metadata": {},
   "outputs": [
    {
     "data": {
      "text/html": [
       "<div>\n",
       "<style scoped>\n",
       "    .dataframe tbody tr th:only-of-type {\n",
       "        vertical-align: middle;\n",
       "    }\n",
       "\n",
       "    .dataframe tbody tr th {\n",
       "        vertical-align: top;\n",
       "    }\n",
       "\n",
       "    .dataframe thead th {\n",
       "        text-align: right;\n",
       "    }\n",
       "</style>\n",
       "<table border=\"1\" class=\"dataframe\">\n",
       "  <thead>\n",
       "    <tr style=\"text-align: right;\">\n",
       "      <th></th>\n",
       "      <th>abstract</th>\n",
       "      <th>label</th>\n",
       "    </tr>\n",
       "  </thead>\n",
       "  <tbody>\n",
       "    <tr>\n",
       "      <th>0</th>\n",
       "      <td>To solve the problems of the data reliability for NAND flash storages a variablenodebased beliefpropagation with message preprocessing VNBPMP decoding algorithm for binary lowdensity paritycheck LDPC codes is proposed The major feature is that by making use of the characteristics of the NAND flash channel the proposed algorithm performs the message preprocessing MP scheme to effectively prevent the propagation of unreliable messages and speed up the propagation of reliable messages To further speed up the decoding convergence the treatment for oscillating variable nodes VNs is considered after the MP scheme being employed Simulation results show that the proposed VNBPMP algorithm has a noticeable improvement in convergence speed without compromising the errorcorrection performance compared with the existing algorithms</td>\n",
       "      <td>0</td>\n",
       "    </tr>\n",
       "    <tr>\n",
       "      <th>1</th>\n",
       "      <td>To solve the simultaneous localization and mapping SLAM problem many techniques have been proposed and the Particle Filter PF is one of effective ways However the PF algorithm needs a large number of samples to approximate the posterior probability density of the system which makes the algorithm complex Whats more the judgment of resampling is imperfect Based on this an improved PF algorithm which introducing population diversity factor and genetic algorithm into the process of resampling is proposed in this paper The effective sample size and the population diversity factor are used to determine whether to resampling When resampling is needed the genetic algorithm is used to optimize the particle set The simulation result shows that estimation accuracy of the improved algorithm is better than that of traditional particles filter not only in accuracy but also in efficiency</td>\n",
       "      <td>0</td>\n",
       "    </tr>\n",
       "  </tbody>\n",
       "</table>\n",
       "</div>"
      ],
      "text/plain": [
       "                                                                                                                                                                                                                                                                                                                                                                                                                                                                                                                                                                                                                                                                                                                                                                                                                                                                                                                abstract  \\\n",
       "0                                                          To solve the problems of the data reliability for NAND flash storages a variablenodebased beliefpropagation with message preprocessing VNBPMP decoding algorithm for binary lowdensity paritycheck LDPC codes is proposed The major feature is that by making use of the characteristics of the NAND flash channel the proposed algorithm performs the message preprocessing MP scheme to effectively prevent the propagation of unreliable messages and speed up the propagation of reliable messages To further speed up the decoding convergence the treatment for oscillating variable nodes VNs is considered after the MP scheme being employed Simulation results show that the proposed VNBPMP algorithm has a noticeable improvement in convergence speed without compromising the errorcorrection performance compared with the existing algorithms   \n",
       "1  To solve the simultaneous localization and mapping SLAM problem many techniques have been proposed and the Particle Filter PF is one of effective ways However the PF algorithm needs a large number of samples to approximate the posterior probability density of the system which makes the algorithm complex Whats more the judgment of resampling is imperfect Based on this an improved PF algorithm which introducing population diversity factor and genetic algorithm into the process of resampling is proposed in this paper The effective sample size and the population diversity factor are used to determine whether to resampling When resampling is needed the genetic algorithm is used to optimize the particle set The simulation result shows that estimation accuracy of the improved algorithm is better than that of traditional particles filter not only in accuracy but also in efficiency   \n",
       "\n",
       "   label  \n",
       "0      0  \n",
       "1      0  "
      ]
     },
     "execution_count": 13,
     "metadata": {},
     "output_type": "execute_result"
    }
   ],
   "source": [
    "df_human.head(2)"
   ]
  },
  {
   "cell_type": "code",
   "execution_count": 14,
   "id": "7c628d96-bbdd-4f51-9522-8ef9fe7fa433",
   "metadata": {},
   "outputs": [
    {
     "data": {
      "text/html": [
       "<div>\n",
       "<style scoped>\n",
       "    .dataframe tbody tr th:only-of-type {\n",
       "        vertical-align: middle;\n",
       "    }\n",
       "\n",
       "    .dataframe tbody tr th {\n",
       "        vertical-align: top;\n",
       "    }\n",
       "\n",
       "    .dataframe thead th {\n",
       "        text-align: right;\n",
       "    }\n",
       "</style>\n",
       "<table border=\"1\" class=\"dataframe\">\n",
       "  <thead>\n",
       "    <tr style=\"text-align: right;\">\n",
       "      <th></th>\n",
       "      <th>abstract</th>\n",
       "      <th>label</th>\n",
       "    </tr>\n",
       "  </thead>\n",
       "  <tbody>\n",
       "    <tr>\n",
       "      <th>0</th>\n",
       "      <td>The reliability of flash memories is highly dependent on the accuracy of the decoding process In this paper an improved variablenodebased BP decoding algorithm is proposed for NAND flash memory The algorithm utilizes parity check codes to improve the convergence and reduce the error probability The threshold voltage is also taken into consideration to enhance the accuracy of the decoding process The simulation results show that the proposed algorithm outperforms the traditional BP algorithm in terms of error correction capability and efficiency The proposed algorithm has great potential to be applied in flash memory systems which can significantly enhance the reliability and longevity of flash memories</td>\n",
       "      <td>1</td>\n",
       "    </tr>\n",
       "    <tr>\n",
       "      <th>1</th>\n",
       "      <td>This paper proposes an improved particle filtering algorithm for mobile robot location The algorithm is based on the simultaneous localization and mapping technique and incorporates a genetic algorithm to optimize the estimation process The proposed algorithm improves filtering accuracy while reducing computational complexity making it suitable for realtime robotic applications In addition the algorithm integrates sociological and statistical data to enhance robot localization accuracy allowing for better overall robot performance The results show that the proposed algorithm outperforms existing particle filtering methods achieving higher accuracy and efficiency in robot location estimation Overall this research presents a valuable contribution to the development of robust and efficient mobile robot localization techniques</td>\n",
       "      <td>1</td>\n",
       "    </tr>\n",
       "  </tbody>\n",
       "</table>\n",
       "</div>"
      ],
      "text/plain": [
       "                                                                                                                                                                                                                                                                                                                                                                                                                                                                                                                                                                                                                                                                                                                                                                                                                                                             abstract  \\\n",
       "0                                                                                                                             The reliability of flash memories is highly dependent on the accuracy of the decoding process In this paper an improved variablenodebased BP decoding algorithm is proposed for NAND flash memory The algorithm utilizes parity check codes to improve the convergence and reduce the error probability The threshold voltage is also taken into consideration to enhance the accuracy of the decoding process The simulation results show that the proposed algorithm outperforms the traditional BP algorithm in terms of error correction capability and efficiency The proposed algorithm has great potential to be applied in flash memory systems which can significantly enhance the reliability and longevity of flash memories   \n",
       "1  This paper proposes an improved particle filtering algorithm for mobile robot location The algorithm is based on the simultaneous localization and mapping technique and incorporates a genetic algorithm to optimize the estimation process The proposed algorithm improves filtering accuracy while reducing computational complexity making it suitable for realtime robotic applications In addition the algorithm integrates sociological and statistical data to enhance robot localization accuracy allowing for better overall robot performance The results show that the proposed algorithm outperforms existing particle filtering methods achieving higher accuracy and efficiency in robot location estimation Overall this research presents a valuable contribution to the development of robust and efficient mobile robot localization techniques   \n",
       "\n",
       "   label  \n",
       "0      1  \n",
       "1      1  "
      ]
     },
     "execution_count": 14,
     "metadata": {},
     "output_type": "execute_result"
    }
   ],
   "source": [
    "df_ai.head(2)"
   ]
  },
  {
   "cell_type": "code",
   "execution_count": 15,
   "id": "8cc6442f-aca1-43b0-9bbd-6d25c26c7d31",
   "metadata": {},
   "outputs": [
    {
     "data": {
      "text/html": [
       "<div>\n",
       "<style scoped>\n",
       "    .dataframe tbody tr th:only-of-type {\n",
       "        vertical-align: middle;\n",
       "    }\n",
       "\n",
       "    .dataframe tbody tr th {\n",
       "        vertical-align: top;\n",
       "    }\n",
       "\n",
       "    .dataframe thead th {\n",
       "        text-align: right;\n",
       "    }\n",
       "</style>\n",
       "<table border=\"1\" class=\"dataframe\">\n",
       "  <thead>\n",
       "    <tr style=\"text-align: right;\">\n",
       "      <th></th>\n",
       "      <th>abstract</th>\n",
       "      <th>label</th>\n",
       "    </tr>\n",
       "  </thead>\n",
       "  <tbody>\n",
       "    <tr>\n",
       "      <th>0</th>\n",
       "      <td>To address the challenges of data reliability in NAND flash storage a new decoding algorithm called variablenodebased beliefpropagation with message preprocessing VNBPMP has been proposed for binary lowdensity paritycheck LDPC codes The algorithm utilizes the unique characteristics of the NAND flash channel to perform message preprocessing MP which effectively prevents the spread of unreliable messages and speeds up the propagation of reliable messages Additionally the VNBPMP algorithm includes a treatment for oscillating variable nodes VNs to further accelerate decoding convergence Simulation results demonstrate that the proposed VNBPMP algorithm has significantly improved convergence speed without compromising errorcorrection performance in comparison to existing algorithms</td>\n",
       "      <td>2</td>\n",
       "    </tr>\n",
       "    <tr>\n",
       "      <th>1</th>\n",
       "      <td>Many techniques have been proposed to solve the simultaneous localization and mapping SLAM problem and among them the Particle Filter PF is considered to be one of the most effective ways However the PF algorithm requires a large number of samples to approximate the posterior probability density of the system which makes the algorithm complex Furthermore the judgment of resampling is imperfect In light of these challenges this paper proposes an improved PF algorithm that introduces a population diversity factor and a genetic algorithm into the process of resampling The improved PF algorithm uses the effective sample size and the population diversity factor to determine whether to resample the particle set When resampling is needed the genetic algorithm is utilized to optimize the particle set The simulation results demonstrate that the estimation accuracy of the improved algorithm is superior to that of the traditional particle filter not only in terms of accuracy but also in efficiency</td>\n",
       "      <td>2</td>\n",
       "    </tr>\n",
       "  </tbody>\n",
       "</table>\n",
       "</div>"
      ],
      "text/plain": [
       "                                                                                                                                                                                                                                                                                                                                                                                                                                                                                                                                                                                                                                                                                                                                                                                                                                                                                                                                                                                                                                    abstract  \\\n",
       "0                                                                                                                                                                                                                         To address the challenges of data reliability in NAND flash storage a new decoding algorithm called variablenodebased beliefpropagation with message preprocessing VNBPMP has been proposed for binary lowdensity paritycheck LDPC codes The algorithm utilizes the unique characteristics of the NAND flash channel to perform message preprocessing MP which effectively prevents the spread of unreliable messages and speeds up the propagation of reliable messages Additionally the VNBPMP algorithm includes a treatment for oscillating variable nodes VNs to further accelerate decoding convergence Simulation results demonstrate that the proposed VNBPMP algorithm has significantly improved convergence speed without compromising errorcorrection performance in comparison to existing algorithms   \n",
       "1  Many techniques have been proposed to solve the simultaneous localization and mapping SLAM problem and among them the Particle Filter PF is considered to be one of the most effective ways However the PF algorithm requires a large number of samples to approximate the posterior probability density of the system which makes the algorithm complex Furthermore the judgment of resampling is imperfect In light of these challenges this paper proposes an improved PF algorithm that introduces a population diversity factor and a genetic algorithm into the process of resampling The improved PF algorithm uses the effective sample size and the population diversity factor to determine whether to resample the particle set When resampling is needed the genetic algorithm is utilized to optimize the particle set The simulation results demonstrate that the estimation accuracy of the improved algorithm is superior to that of the traditional particle filter not only in terms of accuracy but also in efficiency   \n",
       "\n",
       "   label  \n",
       "0      2  \n",
       "1      2  "
      ]
     },
     "execution_count": 15,
     "metadata": {},
     "output_type": "execute_result"
    }
   ],
   "source": [
    "df_paraphrased.head(2)"
   ]
  },
  {
   "cell_type": "code",
   "execution_count": null,
   "id": "e673e819-d6e0-4359-8dcd-315313136eab",
   "metadata": {},
   "outputs": [],
   "source": []
  }
 ],
 "metadata": {
  "kernelspec": {
   "display_name": "Python 3 (ipykernel)",
   "language": "python",
   "name": "python3"
  },
  "language_info": {
   "codemirror_mode": {
    "name": "ipython",
    "version": 3
   },
   "file_extension": ".py",
   "mimetype": "text/x-python",
   "name": "python",
   "nbconvert_exporter": "python",
   "pygments_lexer": "ipython3",
   "version": "3.12.3"
  }
 },
 "nbformat": 4,
 "nbformat_minor": 5
}
